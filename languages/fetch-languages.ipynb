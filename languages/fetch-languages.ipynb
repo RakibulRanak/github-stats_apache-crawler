{
 "cells": [
  {
   "cell_type": "code",
   "execution_count": 100,
   "metadata": {},
   "outputs": [],
   "source": [
    "import requests\n",
    "from bs4 import BeautifulSoup\n",
    "import os\n",
    "import pandas as pd"
   ]
  },
  {
   "cell_type": "code",
   "execution_count": 101,
   "metadata": {},
   "outputs": [],
   "source": [
    "\n",
    "USER = 'RakibulRanak' # will take input from the user instead hardcoded\n",
    "BASE_URL = 'https://github.com'"
   ]
  },
  {
   "cell_type": "code",
   "execution_count": 102,
   "metadata": {},
   "outputs": [],
   "source": [
    "def get_repo_names(page, user):\n",
    "    url = f'{BASE_URL}/{user}?tab=repositories&page={page}'\n",
    "    res = requests.get(url)\n",
    "    soup = BeautifulSoup(res.text, 'html.parser')\n",
    "    repo_elements = soup.find_all('h3', {'class': 'wb-break-all'})\n",
    "    repo_names = []\n",
    "    for element in repo_elements:\n",
    "        name = element.find('a').text.strip()\n",
    "        repo_names.append(name)\n",
    "    return repo_names\n",
    "    "
   ]
  },
  {
   "cell_type": "code",
   "execution_count": 103,
   "metadata": {},
   "outputs": [],
   "source": [
    "\n",
    "repo_urls = []\n",
    "repo_names = []\n",
    "page = 1\n",
    "while True:\n",
    "    names = get_repo_names(page, USER)\n",
    "    if len(names) == 0:\n",
    "        break\n",
    "    repo_names.extend(names)\n",
    "    for name in names:\n",
    "        repo_url = f'{BASE_URL}/{USER}/{name}'\n",
    "        repo_urls.append(repo_url)\n",
    "    page +=1\n",
    "    \n"
   ]
  },
  {
   "cell_type": "code",
   "execution_count": 104,
   "metadata": {},
   "outputs": [
    {
     "name": "stdout",
     "output_type": "stream",
     "text": [
      "Total repo names :  71\n",
      "Total repo links :  71\n",
      "['llm_engineering', 'rakibulranak.github.io', 'linkedIn_auto_jobs_applier_with_AI', 'Top-Data-Science-AI-Book-Collection', 'RakibulRanak']\n",
      "['https://github.com/RakibulRanak/llm_engineering', 'https://github.com/RakibulRanak/rakibulranak.github.io', 'https://github.com/RakibulRanak/linkedIn_auto_jobs_applier_with_AI', 'https://github.com/RakibulRanak/Top-Data-Science-AI-Book-Collection', 'https://github.com/RakibulRanak/RakibulRanak']\n"
     ]
    }
   ],
   "source": [
    "print(\"Total repo names : \", len(repo_names))\n",
    "print(\"Total repo links : \", len(repo_urls))\n",
    "print(repo_names[:5])\n",
    "print(repo_urls[:5])"
   ]
  },
  {
   "cell_type": "code",
   "execution_count": 105,
   "metadata": {},
   "outputs": [],
   "source": [
    "dir_path = f'clones/{USER}'\n",
    "os.makedirs(dir_path, exist_ok=True)"
   ]
  },
  {
   "cell_type": "code",
   "execution_count": 106,
   "metadata": {},
   "outputs": [],
   "source": [
    "df = pd.DataFrame({\n",
    "    'name' : repo_names,\n",
    "    'url' : repo_urls\n",
    "})\n",
    "df.to_csv(f'{dir_path}/repo_urls.csv', index=False)"
   ]
  },
  {
   "cell_type": "code",
   "execution_count": null,
   "metadata": {},
   "outputs": [],
   "source": []
  }
 ],
 "metadata": {
  "kernelspec": {
   "display_name": "llms",
   "language": "python",
   "name": "python3"
  },
  "language_info": {
   "codemirror_mode": {
    "name": "ipython",
    "version": 3
   },
   "file_extension": ".py",
   "mimetype": "text/x-python",
   "name": "python",
   "nbconvert_exporter": "python",
   "pygments_lexer": "ipython3",
   "version": "3.11.12"
  }
 },
 "nbformat": 4,
 "nbformat_minor": 2
}
