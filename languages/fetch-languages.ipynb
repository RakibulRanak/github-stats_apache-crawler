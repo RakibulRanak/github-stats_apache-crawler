{
 "cells": [
  {
   "cell_type": "code",
   "execution_count": 306,
   "metadata": {},
   "outputs": [],
   "source": [
    "import requests\n",
    "from bs4 import BeautifulSoup\n",
    "import os\n",
    "import pandas as pd\n",
    "import subprocess\n",
    "from tqdm import tqdm\n",
    "from selenium import webdriver\n",
    "import json\n",
    "import statistics\n",
    "# !pip install selenium"
   ]
  },
  {
   "cell_type": "code",
   "execution_count": 307,
   "metadata": {},
   "outputs": [],
   "source": [
    "\n",
    "USER = 'Cefalo' # will take input from the user instead hardcoded\n",
    "IS_ORG = True\n",
    "BASE_URL = 'https://github.com'"
   ]
  },
  {
   "cell_type": "code",
   "execution_count": 308,
   "metadata": {},
   "outputs": [],
   "source": [
    "def get_repo_names(page, user, is_org = False):\n",
    "    url = f'{BASE_URL}/orgs/{user}/repositories?page={page}' if is_org else f'{BASE_URL}/{user}?tab=repositories&page={page}'\n",
    "    repo_names = []\n",
    "\n",
    "    if is_org:\n",
    "        driver = webdriver.Chrome()\n",
    "        driver.get(url)\n",
    "        html = driver.page_source\n",
    "        soup = BeautifulSoup(html, 'html.parser')\n",
    "        repo_elements = soup.find_all('h4', class_=lambda c: c and 'Title-module__heading' in c) \n",
    "        driver.quit()\n",
    "        for element in repo_elements:\n",
    "            name = element.find('a').text.strip()\n",
    "            repo_names.append(name)\n",
    "    else :\n",
    "        res = requests.get(url)\n",
    "        soup = BeautifulSoup(res.text, 'html.parser')\n",
    "        repo_elements = soup.find_all('h3', {'class': 'wb-break-all'})\n",
    "        for element in repo_elements:\n",
    "            name = element.find('a').text.strip()\n",
    "            repo_names.append(name)\n",
    "    return repo_names\n",
    "\n",
    "    "
   ]
  },
  {
   "cell_type": "code",
   "execution_count": 309,
   "metadata": {},
   "outputs": [],
   "source": [
    "\n",
    "repo_urls = []\n",
    "repo_names = []\n",
    "page = 1\n",
    "while True:\n",
    "    names = get_repo_names(page, USER, IS_ORG)\n",
    "    if len(names) == 0:\n",
    "        break\n",
    "    repo_names.extend(names)\n",
    "    for name in names:\n",
    "        repo_url = f'{BASE_URL}/{USER}/{name}'\n",
    "        repo_urls.append(repo_url)\n",
    "    page +=1\n",
    "    \n"
   ]
  },
  {
   "cell_type": "code",
   "execution_count": 310,
   "metadata": {},
   "outputs": [
    {
     "name": "stdout",
     "output_type": "stream",
     "text": [
      "Total repo names :  10\n",
      "Total repo links :  10\n",
      "['quick-meet', 'cms-backend-api', 'LetsLearnReact', 'lets-learn-refactoring', 'gotraining']\n",
      "['https://github.com/Cefalo/quick-meet', 'https://github.com/Cefalo/cms-backend-api', 'https://github.com/Cefalo/LetsLearnReact', 'https://github.com/Cefalo/lets-learn-refactoring', 'https://github.com/Cefalo/gotraining']\n"
     ]
    }
   ],
   "source": [
    "print(\"Total repo names : \", len(repo_names))\n",
    "print(\"Total repo links : \", len(repo_urls))\n",
    "print(repo_names[:5])\n",
    "print(repo_urls[:5])"
   ]
  },
  {
   "cell_type": "code",
   "execution_count": 311,
   "metadata": {},
   "outputs": [],
   "source": [
    "dir_path = f'clones/{USER}'\n",
    "os.makedirs(dir_path, exist_ok=True)"
   ]
  },
  {
   "cell_type": "code",
   "execution_count": 312,
   "metadata": {},
   "outputs": [],
   "source": [
    "df = pd.DataFrame({\n",
    "    'name' : repo_names,\n",
    "    'url' : repo_urls\n",
    "})\n",
    "df.to_csv(f'{dir_path}/repo_urls.csv', index=False)"
   ]
  },
  {
   "cell_type": "code",
   "execution_count": 313,
   "metadata": {},
   "outputs": [
    {
     "name": "stderr",
     "output_type": "stream",
     "text": [
      "  0%|          | 0/10 [00:00<?, ?it/s]Cloning into 'quick-meet'...\n",
      " 10%|█         | 1/10 [00:19<02:52, 19.13s/it]Cloning into 'cms-backend-api'...\n",
      " 20%|██        | 2/10 [00:20<01:10,  8.82s/it]Cloning into 'LetsLearnReact'...\n",
      " 30%|███       | 3/10 [00:43<01:46, 15.16s/it]Cloning into 'lets-learn-refactoring'...\n",
      " 40%|████      | 4/10 [00:44<00:57,  9.66s/it]Cloning into 'gotraining'...\n",
      " 50%|█████     | 5/10 [00:47<00:36,  7.35s/it]Cloning into 'resume-parser'...\n",
      " 60%|██████    | 6/10 [00:49<00:21,  5.39s/it]Cloning into 'cms-web-frontend'...\n",
      " 70%|███████   | 7/10 [00:51<00:12,  4.24s/it]Cloning into 'ResumeParser'...\n",
      " 80%|████████  | 8/10 [00:54<00:07,  3.86s/it]Cloning into 'lets-learn-tdd'...\n",
      " 90%|█████████ | 9/10 [01:30<00:13, 13.97s/it]Cloning into 'refactoring-code-smells'...\n",
      "100%|██████████| 10/10 [01:31<00:00,  9.18s/it]\n"
     ]
    }
   ],
   "source": [
    "for url in tqdm(repo_urls):\n",
    "    subprocess.run(['git', 'clone', url], cwd=dir_path)\n"
   ]
  },
  {
   "cell_type": "code",
   "execution_count": 314,
   "metadata": {},
   "outputs": [],
   "source": [
    "languages = [\"Python\", \"JavaScript\", \"TypeScript\", \"Java\"]\n",
    "path = f'clones/{USER}'\n",
    "lang_stats = {}\n",
    "\n",
    "for lang in languages:\n",
    "    lang_stats[lang] = []\n",
    "\n",
    "for repo in repo_names:\n",
    "    repo_path = os.path.join(path, repo)\n",
    "\n",
    "    result = subprocess.run(\n",
    "        [\"cloc\", repo_path, f\"--include-lang={','.join(languages)}\", \"--json\"],\n",
    "        capture_output=True,\n",
    "        text=True\n",
    "    )\n",
    "\n",
    "    data = json.loads(result.stdout)\n",
    "    repo_summary = {\"repo_name\": repo, \"total\": 0}\n",
    "\n",
    "    for lang in languages:\n",
    "        count = data.get(lang, {}).get(\"code\", 0)\n",
    "        lang_stats[lang].append(count)"
   ]
  },
  {
   "cell_type": "code",
   "execution_count": 315,
   "metadata": {},
   "outputs": [
    {
     "name": "stdout",
     "output_type": "stream",
     "text": [
      "{'Python': [0, 0, 0, 0, 0, 0, 0, 1082, 0, 0], 'JavaScript': [82, 9, 918, 0, 0, 0, 143, 1, 0, 0], 'TypeScript': [6401, 0, 0, 0, 0, 0, 0, 0, 0, 0], 'Java': [0, 0, 0, 178, 0, 492, 0, 0, 566, 178]}\n"
     ]
    }
   ],
   "source": [
    "print(lang_stats)"
   ]
  },
  {
   "cell_type": "code",
   "execution_count": 316,
   "metadata": {},
   "outputs": [
    {
     "name": "stdout",
     "output_type": "stream",
     "text": [
      "Python [0, 0, 0, 0, 0, 0, 0, 1082, 0, 0]\n",
      "JavaScript [82, 9, 918, 0, 0, 0, 143, 1, 0, 0]\n",
      "TypeScript [6401, 0, 0, 0, 0, 0, 0, 0, 0, 0]\n",
      "Java [0, 0, 0, 178, 0, 492, 0, 0, 566, 178]\n"
     ]
    }
   ],
   "source": [
    "total_summary = {}\n",
    "for lang in languages:\n",
    "    lang_counts = lang_stats[lang]\n",
    "    print(lang, lang_counts)\n",
    "    total = sum(lang_counts)\n",
    "    median = statistics.median(lang_counts)\n",
    "    total_summary[lang] = {\n",
    "        \"total\" : total,\n",
    "        \"median\" : median\n",
    "    }"
   ]
  },
  {
   "cell_type": "code",
   "execution_count": 317,
   "metadata": {},
   "outputs": [
    {
     "name": "stdout",
     "output_type": "stream",
     "text": [
      "{'Python': {'total': 1082, 'median': 0.0}, 'JavaScript': {'total': 1153, 'median': 0.5}, 'TypeScript': {'total': 6401, 'median': 0.0}, 'Java': {'total': 1414, 'median': 0.0}}\n"
     ]
    }
   ],
   "source": [
    "print(total_summary)"
   ]
  },
  {
   "cell_type": "code",
   "execution_count": 320,
   "metadata": {},
   "outputs": [],
   "source": [
    "with open(f'{USER}_language_summary.json', 'w') as f:\n",
    "    json.dump(total_summary, f)"
   ]
  },
  {
   "cell_type": "code",
   "execution_count": null,
   "metadata": {},
   "outputs": [],
   "source": []
  }
 ],
 "metadata": {
  "kernelspec": {
   "display_name": "llms",
   "language": "python",
   "name": "python3"
  },
  "language_info": {
   "codemirror_mode": {
    "name": "ipython",
    "version": 3
   },
   "file_extension": ".py",
   "mimetype": "text/x-python",
   "name": "python",
   "nbconvert_exporter": "python",
   "pygments_lexer": "ipython3",
   "version": "3.11.12"
  }
 },
 "nbformat": 4,
 "nbformat_minor": 2
}
