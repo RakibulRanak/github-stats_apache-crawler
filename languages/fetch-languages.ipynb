{
 "cells": [
  {
   "cell_type": "code",
   "execution_count": 141,
   "metadata": {},
   "outputs": [],
   "source": [
    "import requests\n",
    "from bs4 import BeautifulSoup\n",
    "import os\n",
    "import pandas as pd\n",
    "import subprocess\n",
    "from tqdm import tqdm"
   ]
  },
  {
   "cell_type": "code",
   "execution_count": 142,
   "metadata": {},
   "outputs": [],
   "source": [
    "\n",
    "USER = 'Kaggle' # will take input from the user instead hardcoded\n",
    "BASE_URL = 'https://github.com'"
   ]
  },
  {
   "cell_type": "code",
   "execution_count": 143,
   "metadata": {},
   "outputs": [],
   "source": [
    "def get_repo_names(page, user):\n",
    "    url = f'{BASE_URL}/{user}?tab=repositories&page={page}'\n",
    "    res = requests.get(url)\n",
    "    soup = BeautifulSoup(res.text, 'html.parser')\n",
    "    repo_elements = soup.find_all('h3', {'class': 'wb-break-all'})\n",
    "    repo_names = []\n",
    "    for element in repo_elements:\n",
    "        name = element.find('a').text.strip()\n",
    "        repo_names.append(name)\n",
    "    return repo_names\n",
    "    "
   ]
  },
  {
   "cell_type": "code",
   "execution_count": 144,
   "metadata": {},
   "outputs": [],
   "source": [
    "\n",
    "repo_urls = []\n",
    "repo_names = []\n",
    "page = 1\n",
    "while True:\n",
    "    names = get_repo_names(page, USER)\n",
    "    if len(names) == 0:\n",
    "        break\n",
    "    repo_names.extend(names)\n",
    "    for name in names:\n",
    "        repo_url = f'{BASE_URL}/{USER}/{name}'\n",
    "        repo_urls.append(repo_url)\n",
    "    page +=1\n",
    "    \n"
   ]
  },
  {
   "cell_type": "code",
   "execution_count": 145,
   "metadata": {},
   "outputs": [
    {
     "name": "stdout",
     "output_type": "stream",
     "text": [
      "Total repo names :  0\n",
      "Total repo links :  0\n",
      "[]\n",
      "[]\n"
     ]
    }
   ],
   "source": [
    "print(\"Total repo names : \", len(repo_names))\n",
    "print(\"Total repo links : \", len(repo_urls))\n",
    "print(repo_names[:5])\n",
    "print(repo_urls[:5])"
   ]
  },
  {
   "cell_type": "code",
   "execution_count": 146,
   "metadata": {},
   "outputs": [],
   "source": [
    "dir_path = f'clones/{USER}'\n",
    "os.makedirs(dir_path, exist_ok=True)"
   ]
  },
  {
   "cell_type": "code",
   "execution_count": 147,
   "metadata": {},
   "outputs": [],
   "source": [
    "df = pd.DataFrame({\n",
    "    'name' : repo_names,\n",
    "    'url' : repo_urls\n",
    "})\n",
    "df.to_csv(f'{dir_path}/repo_urls.csv', index=False)"
   ]
  },
  {
   "cell_type": "code",
   "execution_count": 148,
   "metadata": {},
   "outputs": [
    {
     "name": "stderr",
     "output_type": "stream",
     "text": [
      "0it [00:00, ?it/s]\n"
     ]
    }
   ],
   "source": [
    "for url in tqdm(repo_urls):\n",
    "    subprocess.run(['git', 'clone', url], cwd=dir_path)\n"
   ]
  },
  {
   "cell_type": "code",
   "execution_count": null,
   "metadata": {},
   "outputs": [],
   "source": []
  }
 ],
 "metadata": {
  "kernelspec": {
   "display_name": "llms",
   "language": "python",
   "name": "python3"
  },
  "language_info": {
   "codemirror_mode": {
    "name": "ipython",
    "version": 3
   },
   "file_extension": ".py",
   "mimetype": "text/x-python",
   "name": "python",
   "nbconvert_exporter": "python",
   "pygments_lexer": "ipython3",
   "version": "3.11.12"
  }
 },
 "nbformat": 4,
 "nbformat_minor": 2
}
