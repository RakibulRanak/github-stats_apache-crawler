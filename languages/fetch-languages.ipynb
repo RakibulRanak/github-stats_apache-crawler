{
 "cells": [
  {
   "cell_type": "code",
   "execution_count": 274,
   "metadata": {},
   "outputs": [],
   "source": [
    "import requests\n",
    "from bs4 import BeautifulSoup\n",
    "import os\n",
    "import pandas as pd\n",
    "import subprocess\n",
    "from tqdm import tqdm\n",
    "from selenium import webdriver\n",
    "import json\n",
    "# !pip install selenium"
   ]
  },
  {
   "cell_type": "code",
   "execution_count": 261,
   "metadata": {},
   "outputs": [],
   "source": [
    "\n",
    "USER = 'Kaggle' # will take input from the user instead hardcoded\n",
    "IS_ORG = True\n",
    "BASE_URL = 'https://github.com'"
   ]
  },
  {
   "cell_type": "code",
   "execution_count": 262,
   "metadata": {},
   "outputs": [],
   "source": [
    "def get_repo_names(page, user, is_org = False):\n",
    "    url = f'{BASE_URL}/orgs/{user}/repositories?page={page}' if is_org else f'{BASE_URL}/{user}?tab=repositories&page={page}'\n",
    "    repo_names = []\n",
    "\n",
    "    if is_org:\n",
    "        driver = webdriver.Chrome()\n",
    "        driver.get(url)\n",
    "        html = driver.page_source\n",
    "        soup = BeautifulSoup(html, 'html.parser')\n",
    "        repo_elements = soup.find_all('h4', class_=lambda c: c and 'Title-module__heading' in c) \n",
    "        driver.quit()\n",
    "        for element in repo_elements:\n",
    "            name = element.find('a').text.strip()\n",
    "            repo_names.append(name)\n",
    "    else :\n",
    "        res = requests.get(url)\n",
    "        soup = BeautifulSoup(res.text, 'html.parser')\n",
    "        repo_elements = soup.find_all('h3', {'class': 'wb-break-all'})\n",
    "        for element in repo_elements:\n",
    "            name = element.find('a').text.strip()\n",
    "            repo_names.append(name)\n",
    "    return repo_names\n",
    "\n",
    "    "
   ]
  },
  {
   "cell_type": "code",
   "execution_count": 263,
   "metadata": {},
   "outputs": [],
   "source": [
    "\n",
    "repo_urls = []\n",
    "repo_names = []\n",
    "page = 1\n",
    "while True:\n",
    "    names = get_repo_names(page, USER, IS_ORG)\n",
    "    if len(names) == 0:\n",
    "        break\n",
    "    repo_names.extend(names)\n",
    "    for name in names:\n",
    "        repo_url = f'{BASE_URL}/{USER}/{name}'\n",
    "        repo_urls.append(repo_url)\n",
    "    page +=1\n",
    "    \n"
   ]
  },
  {
   "cell_type": "code",
   "execution_count": 264,
   "metadata": {},
   "outputs": [
    {
     "name": "stdout",
     "output_type": "stream",
     "text": [
      "Total repo names :  12\n",
      "Total repo links :  12\n",
      "['kaggle-api', 'kaggle-environments', 'kagglehub', 'docker-python', 'docker-rstats']\n",
      "['https://github.com/Kaggle/kaggle-api', 'https://github.com/Kaggle/kaggle-environments', 'https://github.com/Kaggle/kagglehub', 'https://github.com/Kaggle/docker-python', 'https://github.com/Kaggle/docker-rstats']\n"
     ]
    }
   ],
   "source": [
    "print(\"Total repo names : \", len(repo_names))\n",
    "print(\"Total repo links : \", len(repo_urls))\n",
    "print(repo_names[:5])\n",
    "print(repo_urls[:5])"
   ]
  },
  {
   "cell_type": "code",
   "execution_count": 265,
   "metadata": {},
   "outputs": [],
   "source": [
    "dir_path = f'clones/{USER}'\n",
    "os.makedirs(dir_path, exist_ok=True)"
   ]
  },
  {
   "cell_type": "code",
   "execution_count": 266,
   "metadata": {},
   "outputs": [],
   "source": [
    "df = pd.DataFrame({\n",
    "    'name' : repo_names,\n",
    "    'url' : repo_urls\n",
    "})\n",
    "df.to_csv(f'{dir_path}/repo_urls.csv', index=False)"
   ]
  },
  {
   "cell_type": "code",
   "execution_count": 267,
   "metadata": {},
   "outputs": [
    {
     "name": "stderr",
     "output_type": "stream",
     "text": [
      "  0%|          | 0/12 [00:00<?, ?it/s]Cloning into 'kaggle-api'...\n",
      "  8%|▊         | 1/12 [01:02<11:25, 62.31s/it]Cloning into 'kaggle-environments'...\n",
      " 17%|█▋        | 2/12 [02:02<10:13, 61.35s/it]Cloning into 'kagglehub'...\n",
      " 25%|██▌       | 3/12 [02:06<05:15, 35.00s/it]Cloning into 'docker-python'...\n",
      " 33%|███▎      | 4/12 [03:02<05:45, 43.18s/it]Cloning into 'docker-rstats'...\n",
      " 42%|████▏     | 5/12 [03:03<03:16, 28.10s/it]Cloning into 'docker-rcran'...\n",
      " 50%|█████     | 6/12 [03:05<01:54, 19.08s/it]Cloning into 'learntools'...\n",
      " 58%|█████▊    | 7/12 [03:19<01:26, 17.40s/it]Cloning into 'kagglesdk'...\n",
      " 67%|██████▋   | 8/12 [03:20<00:49, 12.26s/it]Cloning into '.allstar'...\n",
      " 75%|███████▌  | 9/12 [03:21<00:26,  8.80s/it]Cloning into 'jupyterlab'...\n",
      " 83%|████████▎ | 10/12 [03:23<00:13,  6.52s/it]Cloning into 'docker-julia'...\n",
      " 92%|█████████▏| 11/12 [03:24<00:04,  4.89s/it]Cloning into 'pipelinehelpers'...\n",
      "100%|██████████| 12/12 [03:25<00:00, 17.12s/it]\n"
     ]
    }
   ],
   "source": [
    "for url in tqdm(repo_urls):\n",
    "    subprocess.run(['git', 'clone', url], cwd=dir_path)\n"
   ]
  },
  {
   "cell_type": "code",
   "execution_count": 287,
   "metadata": {},
   "outputs": [
    {
     "name": "stdout",
     "output_type": "stream",
     "text": [
      "{'repo_name': 'kaggle-api', 'total': 20337, 'Python': 20337, 'JavaScript': 0, 'TypeScript': 0, 'Java': 0}\n"
     ]
    }
   ],
   "source": [
    "languages = [\"Python\", \"JavaScript\", \"TypeScript\", \"Java\"]\n",
    "\n",
    "path = f'clones/{USER}'\n",
    "total_repo = len(repo_names)\n",
    "\n",
    "\n",
    "lang_stats = {}\n",
    "for lang in languages:\n",
    "    lang_stats[lang] = []\n",
    "\n",
    "repo_summaries = []\n",
    "\n",
    "for repo in repo_names:\n",
    "    repo_path = os.path.join(path, repo)\n",
    "\n",
    "    result = subprocess.run(\n",
    "        [\"cloc\", repo_path, f\"--include-lang={','.join(languages)}\", \"--json\"],\n",
    "        capture_output=True,\n",
    "        text=True\n",
    "    )\n",
    "\n",
    "    data = json.loads(result.stdout)\n",
    "    repo_summary = {\"repo_name\": repo, \"total\": 0}\n",
    "\n",
    "    for lang in languages:\n",
    "        count = data.get(lang, {}).get(\"code\", 0)\n",
    "        repo_summary[lang] = count\n",
    "        repo_summary[\"total\"] += count\n",
    "        lang_stats[lang].append(count)\n",
    "\n",
    "    repo_summaries.append(repo_summary)"
   ]
  },
  {
   "cell_type": "code",
   "execution_count": 288,
   "metadata": {},
   "outputs": [
    {
     "name": "stdout",
     "output_type": "stream",
     "text": [
      "{'repo_name': 'kaggle-api', 'total': 20337, 'Python': 20337, 'JavaScript': 0, 'TypeScript': 0, 'Java': 0}\n",
      "{'Python': [20337, 16772, 7014, 3437, 0, 0, 12078, 10489, 0, 0, 0, 0], 'JavaScript': [0, 6979, 0, 0, 0, 0, 0, 0, 0, 6, 0, 0], 'TypeScript': [0, 1849, 0, 0, 0, 0, 0, 0, 0, 1131, 0, 0], 'Java': [0, 1608, 0, 0, 0, 0, 0, 0, 0, 0, 0, 0]}\n"
     ]
    }
   ],
   "source": [
    "print(repo_summaries[0])\n",
    "print(lang_stats)"
   ]
  },
  {
   "cell_type": "code",
   "execution_count": null,
   "metadata": {},
   "outputs": [],
   "source": []
  }
 ],
 "metadata": {
  "kernelspec": {
   "display_name": "llms",
   "language": "python",
   "name": "python3"
  },
  "language_info": {
   "codemirror_mode": {
    "name": "ipython",
    "version": 3
   },
   "file_extension": ".py",
   "mimetype": "text/x-python",
   "name": "python",
   "nbconvert_exporter": "python",
   "pygments_lexer": "ipython3",
   "version": "3.11.12"
  }
 },
 "nbformat": 4,
 "nbformat_minor": 2
}
