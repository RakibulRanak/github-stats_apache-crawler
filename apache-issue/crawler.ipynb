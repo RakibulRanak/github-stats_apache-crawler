{
 "cells": [
  {
   "cell_type": "code",
   "execution_count": 12,
   "metadata": {},
   "outputs": [],
   "source": [
    "import requests\n",
    "from bs4 import BeautifulSoup\n",
    "from datetime import datetime, timezone"
   ]
  },
  {
   "cell_type": "code",
   "execution_count": 33,
   "metadata": {},
   "outputs": [
    {
     "name": "stdout",
     "output_type": "stream",
     "text": [
      "Bug\n",
      "Claus Ibsen\n",
      "14/Dec/16 14:42\n",
      "1481726520\n",
      "Assume I have rest pathrest(\"/test\").get().type(ClassA.class).to(\"direct:someRoute\");rest(\"/testSub\").get().type(ClassB.class).to(\"direct:someOtherRoute\");And in the type ClassA contains a reference to ClassB.Within the Swagger Doc the path for ClassA renders as expected:/test:\n",
      "    get:\n",
      "      responses:\n",
      "        200:\n",
      "          schema:\n",
      "            $ref:'#/definitions/ClassA'However ClassB gets a string parameter scheme/testSub:\n",
      "    get:\n",
      "      responses:\n",
      "        200:\n",
      "          schema:\n",
      "             type :'string'format :'com.ClassB'However I'd expect it to be:/testSub:\n",
      "    get:\n",
      "      responses:\n",
      "        200:\n",
      "          schema:\n",
      "            $ref:'#/definitions/ClassB'\n"
     ]
    }
   ],
   "source": [
    "url = 'https://issues.apache.org/jira/browse/CAMEL-10597'\n",
    "\n",
    "res = requests.get(url)\n",
    "soup = BeautifulSoup(res.text, 'html.parser')\n",
    "\n",
    "issue_type = soup.find('span', {'id': 'type-val', 'class': 'value'}).text.strip()\n",
    "print(issue_type)\n",
    "\n",
    "assignee = soup.find('span', {'class':'user-hover'}).text.strip()\n",
    "print(assignee)\n",
    "\n",
    "created_at = soup.find('span', {'id': 'created-val', 'data-fieldtype': 'datetime'}).text.strip()\n",
    "print(created_at)\n",
    "\n",
    "dt = datetime.strptime(created_at, \"%d/%b/%y %H:%M\").replace(tzinfo=timezone.utc)\n",
    "created_at_epoch = int(dt.timestamp())\n",
    "print(created_at_epoch)\n",
    "\n",
    "description = soup.find('div', {'id':'description-val'}).get_text(strip=True)\n",
    "print(description)"
   ]
  },
  {
   "cell_type": "code",
   "execution_count": null,
   "metadata": {},
   "outputs": [],
   "source": []
  }
 ],
 "metadata": {
  "kernelspec": {
   "display_name": "llms",
   "language": "python",
   "name": "python3"
  },
  "language_info": {
   "codemirror_mode": {
    "name": "ipython",
    "version": 3
   },
   "file_extension": ".py",
   "mimetype": "text/x-python",
   "name": "python",
   "nbconvert_exporter": "python",
   "pygments_lexer": "ipython3",
   "version": "3.11.12"
  }
 },
 "nbformat": 4,
 "nbformat_minor": 2
}
