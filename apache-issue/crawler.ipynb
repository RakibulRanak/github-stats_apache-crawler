{
 "cells": [
  {
   "cell_type": "code",
   "execution_count": 119,
   "metadata": {},
   "outputs": [],
   "source": [
    "import requests\n",
    "from bs4 import BeautifulSoup\n",
    "from datetime import datetime, timezone\n",
    "from selenium import webdriver"
   ]
  },
  {
   "cell_type": "code",
   "execution_count": 120,
   "metadata": {},
   "outputs": [],
   "source": [
    "def time_epoch(date):\n",
    "    dt = datetime.strptime(date, \"%d/%b/%y %H:%M\").replace(tzinfo=timezone.utc)\n",
    "    epoch = int(dt.timestamp())\n",
    "    return epoch"
   ]
  },
  {
   "cell_type": "code",
   "execution_count": 121,
   "metadata": {},
   "outputs": [],
   "source": [
    "def fetch_issue_body(issue_url):\n",
    "    res = requests.get(issue_url)\n",
    "    soup = BeautifulSoup(res.text, 'html.parser')\n",
    "\n",
    "    type = soup.find('span', {'id': 'type-val', 'class': 'value'}).text.strip()\n",
    "    assignee = soup.find('span', {'class':'user-hover'}).text.strip()\n",
    "    created_at = soup.find('span', {'id': 'created-val', 'data-fieldtype': 'datetime'}).text.strip()\n",
    "    created_at_epoch = time_epoch(created_at)\n",
    "    description = soup.find('div', {'id':'description-val'}).get_text(strip=True)\n",
    "\n",
    "    return {\n",
    "        'type' : type,\n",
    "        'assignee' : assignee,\n",
    "        'createdAt' : created_at,\n",
    "        'created_at_epoch' : created_at_epoch,\n",
    "        'description' : description\n",
    "    }"
   ]
  },
  {
   "cell_type": "code",
   "execution_count": 122,
   "metadata": {},
   "outputs": [],
   "source": [
    "def fetch_issue_comments(issue_url):\n",
    "    driver = webdriver.Chrome()\n",
    "    driver.get(issue_url)\n",
    "    html = driver.page_source\n",
    "    driver.quit()\n",
    "    soup = BeautifulSoup(html, 'html.parser')\n",
    "\n",
    "    comments_sec = soup.find_all('div', {'class':'issue-data-block activity-comment twixi-block expanded'})\n",
    "    comments = []\n",
    "\n",
    "    for sec in comments_sec:\n",
    "        comment_sec = sec.find('div', {'class':'twixi-wrap verbose actionContainer'})\n",
    "            \n",
    "        author = comment_sec.find('a',{'class' : 'user-hover user-avatar'}).text.strip()\n",
    "        created_at = comment_sec.find('time').text.strip()\n",
    "        created_at_epoch = time_epoch(created_at)\n",
    "        text = comment_sec.find('div', {'class':'action-body flooded'}).get_text(strip=True)\n",
    "\n",
    "        comment = {\n",
    "            \"author\" : author,\n",
    "            \"created_at\":created_at,\n",
    "            \"created_at_epoch\":created_at_epoch,\n",
    "            \"text\": text\n",
    "        }\n",
    "        print(comment)\n",
    "        comments.append(comment)\n",
    "    return comments"
   ]
  },
  {
   "cell_type": "code",
   "execution_count": 124,
   "metadata": {},
   "outputs": [
    {
     "name": "stdout",
     "output_type": "stream",
     "text": [
      "{'author': 'James Strachan', 'created_at': '13/Aug/07 19:36', 'created_at_epoch': 1187033760, 'text': \"Any idea how to reproduce the ClassNotFoundException? e.g. the camel-core project doesn't use activemq yet it uses the AnnotationTypeConverterLoader OK?\"}\n",
      "{'author': 'Aaron Crickenberger', 'created_at': '13/Aug/07 21:10', 'created_at_epoch': 1187039400, 'text': 'In my case, I\\'m using these jars in a jboss deployment.  So long as I include each individual camel jar except camel-activemq, things are OK.Add camel-activemq to camel-spring\\'s pom.xml, and the run \"mvn test\" for camel-spring.  I couldn\\'t get this to reproduce for camel-core for some reason.    I apologize that this isn\\'t the most direct example, but the stack trace looks the same.'}\n",
      "{'author': 'James Strachan', 'created_at': '14/Aug/07 06:13', 'created_at_epoch': 1187071980, 'text': \"Any chance of getting a stack trace to see exactly where this occurs?BTW I think I get it now - Camel auto-discovers type converters in each library. So if you add, say, camel-activemq.jar to the classpath but without the activemq code, it won't be able to load the type converters defined in camel-activemq.jar.To fix this we should just log some kinda warning that the type converters in camel-activemq cannot be used or something?\"}\n",
      "{'author': 'James Strachan', 'created_at': '04/Sep/07 08:36', 'created_at_epoch': 1188894960, 'text': \"I've added a test case to try reproduce this issue...https://svn.apache.org/repos/asf/activemq/camel/trunk/tests/camel-partial-classpath-test/am using a custom type converter, adding camel-activemq to the classpath but (AFAIK) without ActiveMQ and its working without any errors.Maybe this has been fixed; or maybe I'm just not doing the right thing to reproduce your issue? Any ideas how to reproduce it? e.g. an example classpath that causes problems maybe?\"}\n",
      "{'author': 'James Strachan', 'created_at': '04/Sep/07 10:05', 'created_at_epoch': 1188900300, 'text': 'I figured out how to make this test case actually fail in the end; then added a fix for it.'}\n",
      "{'author': 'Aaron Crickenberger', 'created_at': '04/Sep/07 14:00', 'created_at_epoch': 1188914400, 'text': \"Nice work!  Out of curiosity, what was it that finally made the test case fail?  I couldn't quite discern from the svn commits.\"}\n",
      "{'author': 'James Strachan', 'created_at': '04/Sep/07 14:30', 'created_at_epoch': 1188916200, 'text': \"Am not 100% sureI added a custom converter to the test case, which certainly helped; then the test didn't fail in my IDE, but definitely failed in maven (i'd maybe not ran the test in maven when I thought it wasn't failing). It could have been not failing in my IDEA due to a bad classpath (e.g. an ActiveMQ jar on the classpath etc)\"}\n",
      "issue done: 100\n",
      "{'author': 'Noah Nordrum', 'created_at': '14/Aug/07 02:23', 'created_at_epoch': 1187058180, 'text': '[3:42pm]nnordrum: hey chirino_m, does Camel have a \"squaker\", i.e. only let 5 messages through a second[3:42pm]chirino_m: don\\'t recall off the to of my head.[3:43pm]nnordrum: should be pretty simple to do though... would you do it as a component, or a processor?[3:44pm]chirino_m: could be either.[3:44pm]chirino_m: but I think a component is more reasonable[3:44pm]chirino_m: since it acts like a queue.[3:44pm]nnordrum: that\\'s what I was thinking...[3:44pm]chirino_m: you might want to even extend the seda componentjust discovered there\\'s a throttler...'}\n",
      "issue done: 101\n"
     ]
    },
    {
     "ename": "AttributeError",
     "evalue": "'NoneType' object has no attribute 'get_text'",
     "output_type": "error",
     "traceback": [
      "\u001b[0;31m---------------------------------------------------------------------------\u001b[0m",
      "\u001b[0;31mAttributeError\u001b[0m                            Traceback (most recent call last)",
      "Cell \u001b[0;32mIn[124], line 7\u001b[0m\n\u001b[1;32m      4\u001b[0m \u001b[38;5;28;01mwhile\u001b[39;00m issue_no \u001b[38;5;241m<\u001b[39m \u001b[38;5;241m22080\u001b[39m:\n\u001b[1;32m      5\u001b[0m     issue_url \u001b[38;5;241m=\u001b[39m \u001b[38;5;124mf\u001b[39m\u001b[38;5;124m'\u001b[39m\u001b[38;5;124mhttps://issues.apache.org/jira/browse/CAMEL-\u001b[39m\u001b[38;5;132;01m{\u001b[39;00missue_no\u001b[38;5;132;01m}\u001b[39;00m\u001b[38;5;124m'\u001b[39m\n\u001b[0;32m----> 7\u001b[0m     issue \u001b[38;5;241m=\u001b[39m \u001b[43mfetch_issue_body\u001b[49m\u001b[43m(\u001b[49m\u001b[43missue_url\u001b[49m\u001b[43m)\u001b[49m\n\u001b[1;32m      8\u001b[0m     comments \u001b[38;5;241m=\u001b[39m fetch_issue_comments(issue_url)\n\u001b[1;32m      9\u001b[0m     issue[\u001b[38;5;124m'\u001b[39m\u001b[38;5;124mcomments\u001b[39m\u001b[38;5;124m'\u001b[39m] \u001b[38;5;241m=\u001b[39m comments\n",
      "Cell \u001b[0;32mIn[121], line 9\u001b[0m, in \u001b[0;36mfetch_issue_body\u001b[0;34m(issue_url)\u001b[0m\n\u001b[1;32m      7\u001b[0m created_at \u001b[38;5;241m=\u001b[39m soup\u001b[38;5;241m.\u001b[39mfind(\u001b[38;5;124m'\u001b[39m\u001b[38;5;124mspan\u001b[39m\u001b[38;5;124m'\u001b[39m, {\u001b[38;5;124m'\u001b[39m\u001b[38;5;124mid\u001b[39m\u001b[38;5;124m'\u001b[39m: \u001b[38;5;124m'\u001b[39m\u001b[38;5;124mcreated-val\u001b[39m\u001b[38;5;124m'\u001b[39m, \u001b[38;5;124m'\u001b[39m\u001b[38;5;124mdata-fieldtype\u001b[39m\u001b[38;5;124m'\u001b[39m: \u001b[38;5;124m'\u001b[39m\u001b[38;5;124mdatetime\u001b[39m\u001b[38;5;124m'\u001b[39m})\u001b[38;5;241m.\u001b[39mtext\u001b[38;5;241m.\u001b[39mstrip()\n\u001b[1;32m      8\u001b[0m created_at_epoch \u001b[38;5;241m=\u001b[39m time_epoch(created_at)\n\u001b[0;32m----> 9\u001b[0m description \u001b[38;5;241m=\u001b[39m \u001b[43msoup\u001b[49m\u001b[38;5;241;43m.\u001b[39;49m\u001b[43mfind\u001b[49m\u001b[43m(\u001b[49m\u001b[38;5;124;43m'\u001b[39;49m\u001b[38;5;124;43mdiv\u001b[39;49m\u001b[38;5;124;43m'\u001b[39;49m\u001b[43m,\u001b[49m\u001b[43m \u001b[49m\u001b[43m{\u001b[49m\u001b[38;5;124;43m'\u001b[39;49m\u001b[38;5;124;43mid\u001b[39;49m\u001b[38;5;124;43m'\u001b[39;49m\u001b[43m:\u001b[49m\u001b[38;5;124;43m'\u001b[39;49m\u001b[38;5;124;43mdescription-val\u001b[39;49m\u001b[38;5;124;43m'\u001b[39;49m\u001b[43m}\u001b[49m\u001b[43m)\u001b[49m\u001b[38;5;241;43m.\u001b[39;49m\u001b[43mget_text\u001b[49m(strip\u001b[38;5;241m=\u001b[39m\u001b[38;5;28;01mTrue\u001b[39;00m)\n\u001b[1;32m     11\u001b[0m \u001b[38;5;28;01mreturn\u001b[39;00m {\n\u001b[1;32m     12\u001b[0m     \u001b[38;5;124m'\u001b[39m\u001b[38;5;124mtype\u001b[39m\u001b[38;5;124m'\u001b[39m : \u001b[38;5;28mtype\u001b[39m,\n\u001b[1;32m     13\u001b[0m     \u001b[38;5;124m'\u001b[39m\u001b[38;5;124massignee\u001b[39m\u001b[38;5;124m'\u001b[39m : assignee,\n\u001b[0;32m   (...)\u001b[0m\n\u001b[1;32m     16\u001b[0m     \u001b[38;5;124m'\u001b[39m\u001b[38;5;124mdescription\u001b[39m\u001b[38;5;124m'\u001b[39m : description\n\u001b[1;32m     17\u001b[0m }\n",
      "\u001b[0;31mAttributeError\u001b[0m: 'NoneType' object has no attribute 'get_text'"
     ]
    }
   ],
   "source": [
    "issue_no = 100\n",
    "issues = []\n",
    "\n",
    "while issue_no < 22080:\n",
    "    issue_url = f'https://issues.apache.org/jira/browse/CAMEL-{issue_no}'\n",
    "\n",
    "    issue = fetch_issue_body(issue_url)\n",
    "    comments = fetch_issue_comments(issue_url)\n",
    "    issue['comments'] = comments\n",
    "    issues.append(issue)\n",
    "    print(f\"issue done: {issue_no}\")\n",
    "    issue_no +=1"
   ]
  },
  {
   "cell_type": "code",
   "execution_count": 107,
   "metadata": {},
   "outputs": [
    {
     "data": {
      "text/plain": [
       "[{'type': 'Bug',\n",
       "  'assignee': 'Claus Ibsen',\n",
       "  'createdAt': '14/Dec/16 14:42',\n",
       "  'created_at_epoch': 1481726520,\n",
       "  'description': 'Assume I have rest pathrest(\"/test\").get().type(ClassA.class).to(\"direct:someRoute\");rest(\"/testSub\").get().type(ClassB.class).to(\"direct:someOtherRoute\");And in the type ClassA contains a reference to ClassB.Within the Swagger Doc the path for ClassA renders as expected:/test:\\n    get:\\n      responses:\\n        200:\\n          schema:\\n            $ref:\\'#/definitions/ClassA\\'However ClassB gets a string parameter scheme/testSub:\\n    get:\\n      responses:\\n        200:\\n          schema:\\n             type :\\'string\\'format :\\'com.ClassB\\'However I\\'d expect it to be:/testSub:\\n    get:\\n      responses:\\n        200:\\n          schema:\\n            $ref:\\'#/definitions/ClassB\\'',\n",
       "  'comments': [{'author': 'ASF GitHub Bot',\n",
       "    'created_at': '14/Dec/16 14:55',\n",
       "    'created_at_epoch': 1481727300,\n",
       "    'text': 'GitHub user bobpaulin opened a pull request:https://github.com/apache/camel/pull/1348CAMEL-10597- Allow addition of x-className to empty VendorExtensionsYou can merge this pull request into a Git repository by running:$ git pullhttps://github.com/bobpaulin/camelCAMEL-10597Alternatively you can review and apply these changes as the patch at:https://github.com/apache/camel/pull/1348.patchTo close this pull request, make a commit to your master/trunk branchwith (at least) the following in the commit message:This closes #1348'},\n",
       "   {'author': 'Bob Paulin',\n",
       "    'created_at': '14/Dec/16 14:56',\n",
       "    'created_at_epoch': 1481727360,\n",
       "    'text': 'PR includedhttps://github.com/apache/camel/pull/1348'},\n",
       "   {'author': 'Claus Ibsen',\n",
       "    'created_at': '14/Dec/16 15:31',\n",
       "    'created_at_epoch': 1481729460,\n",
       "    'text': 'Thanks for the PR'},\n",
       "   {'author': 'ASF GitHub Bot',\n",
       "    'created_at': '14/Dec/16 15:34',\n",
       "    'created_at_epoch': 1481729640,\n",
       "    'text': 'Github user bobpaulin closed the pull request at:https://github.com/apache/camel/pull/1348'},\n",
       "   {'author': 'Andrea Cosentino',\n",
       "    'created_at': '15/Dec/16 14:05',\n",
       "    'created_at_epoch': 1481810700,\n",
       "    'text': '2.17.x is affected toodavsclaus'},\n",
       "   {'author': 'Claus Ibsen',\n",
       "    'created_at': '15/Dec/16 14:26',\n",
       "    'created_at_epoch': 1481811960,\n",
       "    'text': 'Thanks its backported now'}]}]"
      ]
     },
     "execution_count": 107,
     "metadata": {},
     "output_type": "execute_result"
    }
   ],
   "source": [
    "print(len(issues))\n",
    "issues[0:2]"
   ]
  },
  {
   "cell_type": "code",
   "execution_count": 108,
   "metadata": {},
   "outputs": [],
   "source": [
    "import json\n",
    "\n",
    "with open('camel_issues.json', 'w', encoding='utf-8') as f:\n",
    "    json.dump(issues, f, indent=2, ensure_ascii=False)\n"
   ]
  }
 ],
 "metadata": {
  "kernelspec": {
   "display_name": "llms",
   "language": "python",
   "name": "python3"
  },
  "language_info": {
   "codemirror_mode": {
    "name": "ipython",
    "version": 3
   },
   "file_extension": ".py",
   "mimetype": "text/x-python",
   "name": "python",
   "nbconvert_exporter": "python",
   "pygments_lexer": "ipython3",
   "version": "3.11.12"
  }
 },
 "nbformat": 4,
 "nbformat_minor": 2
}
