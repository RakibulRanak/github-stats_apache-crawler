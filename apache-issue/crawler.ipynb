{
 "cells": [
  {
   "cell_type": "code",
   "execution_count": 132,
   "metadata": {},
   "outputs": [],
   "source": [
    "import requests\n",
    "from bs4 import BeautifulSoup\n",
    "from datetime import datetime, timezone\n",
    "from selenium import webdriver"
   ]
  },
  {
   "cell_type": "code",
   "execution_count": null,
   "metadata": {},
   "outputs": [],
   "source": [
    "DEFAULT_APACHE_PROJECT_URL = 'https://issues.apache.org/jira/browse/CAMEL'\n",
    "ISSUE_NO_START = 1\n",
    "ISSUE_NO_END = 22079"
   ]
  },
  {
   "cell_type": "code",
   "execution_count": 133,
   "metadata": {},
   "outputs": [],
   "source": [
    "def time_epoch(date):\n",
    "    dt = datetime.strptime(date, \"%d/%b/%y %H:%M\").replace(tzinfo=timezone.utc)\n",
    "    epoch = int(dt.timestamp())\n",
    "    return epoch"
   ]
  },
  {
   "cell_type": "code",
   "execution_count": 134,
   "metadata": {},
   "outputs": [],
   "source": [
    "def fetch_issue_body(issue_url):\n",
    "    res = requests.get(issue_url)\n",
    "    soup = BeautifulSoup(res.text, 'html.parser')\n",
    "\n",
    "    type_tag = soup.find('span', {'id': 'type-val', 'class': 'value'})\n",
    "    type = type_tag.text.strip() if type_tag else None\n",
    "\n",
    "    assignee_tag = soup.find('span', {'class':'user-hover'})\n",
    "    assignee = assignee_tag.text.strip() if assignee_tag else None\n",
    "\n",
    "    created_tag = soup.find('span', {'id': 'created-val', 'data-fieldtype': 'datetime'})\n",
    "    created_at = created_tag.text.strip() if created_tag else None\n",
    "\n",
    "    created_at_epoch = time_epoch(created_at) if created_at else None\n",
    "\n",
    "    desc_tag = soup.find('div', {'id':'description-val'})\n",
    "    description = desc_tag.get_text(strip=True) if desc_tag else None\n",
    "\n",
    "    return {\n",
    "        'type' : type,\n",
    "        'assignee' : assignee,\n",
    "        'createdAt' : created_at,\n",
    "        'created_at_epoch' : created_at_epoch,\n",
    "        'description' : description\n",
    "    }"
   ]
  },
  {
   "cell_type": "code",
   "execution_count": 135,
   "metadata": {},
   "outputs": [],
   "source": [
    "def fetch_issue_comments(issue_url):\n",
    "    driver = webdriver.Chrome()\n",
    "    driver.get(issue_url)\n",
    "    html = driver.page_source\n",
    "    driver.quit()\n",
    "    soup = BeautifulSoup(html, 'html.parser')\n",
    "\n",
    "    comments_sec = soup.find_all('div', {'class':'issue-data-block activity-comment twixi-block expanded'})\n",
    "    comments = []\n",
    "\n",
    "    for sec in comments_sec:\n",
    "        comment_sec = sec.find('div', {'class':'twixi-wrap verbose actionContainer'})\n",
    "        \n",
    "        author_tag = comment_sec.find('a', {'class' : 'user-hover user-avatar'})\n",
    "        author = author_tag.text.strip() if author_tag else None\n",
    "\n",
    "        time_tag = comment_sec.find('time')\n",
    "        created_at = time_tag.text.strip() if time_tag else None\n",
    "        created_at_epoch = time_epoch(created_at) if created_at else None\n",
    "\n",
    "        body_tag = comment_sec.find('div', {'class':'action-body flooded'})\n",
    "        text = body_tag.get_text(strip=True) if body_tag else None\n",
    "\n",
    "        comment = {\n",
    "            \"author\" : author,\n",
    "            \"created_at\":created_at,\n",
    "            \"created_at_epoch\":created_at_epoch,\n",
    "            \"text\": text\n",
    "        }\n",
    "        comments.append(comment)\n",
    "    return comments"
   ]
  },
  {
   "cell_type": "code",
   "execution_count": null,
   "metadata": {},
   "outputs": [],
   "source": [
    "issue_no = ISSUE_NO_START\n",
    "issues = []\n",
    "\n",
    "while issue_no <= ISSUE_NO_END:\n",
    "    issue_url = f'{DEFAULT_APACHE_PROJECT_URL}-{issue_no}'\n",
    "    try:\n",
    "        issue = fetch_issue_body(issue_url)\n",
    "        comments = fetch_issue_comments(issue_url)\n",
    "        issue['comments'] = comments\n",
    "        issue['id'] = issue_no\n",
    "        issue['url'] = issue_url\n",
    "        issues.append(issue)\n",
    "        print(f\"issue done: {issue_no}\")\n",
    "    except Exception as e:\n",
    "        print(f\"Error in issue {issue_no}: {e}\")\n",
    "    issue_no +=1"
   ]
  },
  {
   "cell_type": "code",
   "execution_count": 137,
   "metadata": {},
   "outputs": [
    {
     "name": "stdout",
     "output_type": "stream",
     "text": [
      "104\n"
     ]
    },
    {
     "data": {
      "text/plain": [
       "[{'type': 'Improvement',\n",
       "  'assignee': 'James Strachan',\n",
       "  'createdAt': '18/Apr/07 16:06',\n",
       "  'created_at_epoch': 1176912360,\n",
       "  'description': None,\n",
       "  'comments': [],\n",
       "  'id': 1,\n",
       "  'url': 'https://issues.apache.org/jira/browse/CAMEL-1'},\n",
       " {'type': 'Bug',\n",
       "  'assignee': 'Hiram R. Chirino',\n",
       "  'createdAt': '18/May/07 12:57',\n",
       "  'created_at_epoch': 1179493020,\n",
       "  'description': 'Will attach a dump',\n",
       "  'comments': [{'author': 'Hiram R. Chirino',\n",
       "    'created_at': '18/May/07 16:01',\n",
       "    'created_at_epoch': 1179504060,\n",
       "    'text': 'Fixed.  Cwiki updated for amq, nms, cpp, and camel spaces.'}],\n",
       "  'id': 2,\n",
       "  'url': 'https://issues.apache.org/jira/browse/CAMEL-2'}]"
      ]
     },
     "execution_count": 137,
     "metadata": {},
     "output_type": "execute_result"
    }
   ],
   "source": [
    "print(len(issues))\n",
    "issues[0:2]"
   ]
  },
  {
   "cell_type": "code",
   "execution_count": 138,
   "metadata": {},
   "outputs": [],
   "source": [
    "import json\n",
    "\n",
    "with open('camel_issues.json', 'w', encoding='utf-8') as f:\n",
    "    json.dump(issues, f, indent=2, ensure_ascii=False)\n",
    "print(f\"camel_issues.json created successfully\")"
   ]
  },
  {
   "cell_type": "code",
   "execution_count": 141,
   "metadata": {},
   "outputs": [],
   "source": [
    "import csv\n",
    "import json\n",
    "\n",
    "fieldnames = list(issues[0].keys()) \n",
    "\n",
    "with open('camel_issues.csv', 'w', encoding='utf-8') as f:\n",
    "    writer = csv.DictWriter(f, fieldnames=fieldnames)\n",
    "    writer.writeheader()\n",
    "    for issue in issues:\n",
    "        row = issue.copy() \n",
    "        row['comments'] = json.dumps(row['comments'], ensure_ascii=False)\n",
    "        writer.writerow(row)\n",
    "print(f\"camel_issues.csv created successfully\")"
   ]
  }
 ],
 "metadata": {
  "kernelspec": {
   "display_name": "llms",
   "language": "python",
   "name": "python3"
  },
  "language_info": {
   "codemirror_mode": {
    "name": "ipython",
    "version": 3
   },
   "file_extension": ".py",
   "mimetype": "text/x-python",
   "name": "python",
   "nbconvert_exporter": "python",
   "pygments_lexer": "ipython3",
   "version": "3.11.12"
  }
 },
 "nbformat": 4,
 "nbformat_minor": 2
}
