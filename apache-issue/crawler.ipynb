{
 "cells": [
  {
   "cell_type": "code",
   "execution_count": 77,
   "metadata": {},
   "outputs": [],
   "source": [
    "import requests\n",
    "from bs4 import BeautifulSoup\n",
    "from datetime import datetime, timezone\n",
    "from selenium import webdriver"
   ]
  },
  {
   "cell_type": "code",
   "execution_count": 78,
   "metadata": {},
   "outputs": [],
   "source": [
    "def time_epoch(date):\n",
    "    dt = datetime.strptime(date, \"%d/%b/%y %H:%M\").replace(tzinfo=timezone.utc)\n",
    "    epoch = int(dt.timestamp())\n",
    "    return epoch\n"
   ]
  },
  {
   "cell_type": "code",
   "execution_count": 73,
   "metadata": {},
   "outputs": [
    {
     "name": "stdout",
     "output_type": "stream",
     "text": [
      "Bug\n",
      "Claus Ibsen\n",
      "14/Dec/16 14:42\n",
      "1481726520\n",
      "Assume I have rest pathrest(\"/test\").get().type(ClassA.class).to(\"direct:someRoute\");rest(\"/testSub\").get().type(ClassB.class).to(\"direct:someOtherRoute\");And in the type ClassA contains a reference to ClassB.Within the Swagger Doc the path for ClassA renders as expected:/test:\n",
      "    get:\n",
      "      responses:\n",
      "        200:\n",
      "          schema:\n",
      "            $ref:'#/definitions/ClassA'However ClassB gets a string parameter scheme/testSub:\n",
      "    get:\n",
      "      responses:\n",
      "        200:\n",
      "          schema:\n",
      "             type :'string'format :'com.ClassB'However I'd expect it to be:/testSub:\n",
      "    get:\n",
      "      responses:\n",
      "        200:\n",
      "          schema:\n",
      "            $ref:'#/definitions/ClassB'\n"
     ]
    }
   ],
   "source": [
    "url = 'https://issues.apache.org/jira/browse/CAMEL-10597'\n",
    "\n",
    "res = requests.get(url)\n",
    "soup = BeautifulSoup(res.text, 'html.parser')\n",
    "\n",
    "issue_type = soup.find('span', {'id': 'type-val', 'class': 'value'}).text.strip()\n",
    "print(issue_type)\n",
    "\n",
    "assignee = soup.find('span', {'class':'user-hover'}).text.strip()\n",
    "print(assignee)\n",
    "\n",
    "created_at = soup.find('span', {'id': 'created-val', 'data-fieldtype': 'datetime'}).text.strip()\n",
    "print(created_at)\n",
    "\n",
    "created_at_epoch = time_epoch(created_at)\n",
    "print(created_at_epoch)\n",
    "\n",
    "description = soup.find('div', {'id':'description-val'}).get_text(strip=True)\n",
    "print(description)"
   ]
  },
  {
   "cell_type": "code",
   "execution_count": 87,
   "metadata": {},
   "outputs": [
    {
     "name": "stdout",
     "output_type": "stream",
     "text": [
      "ASF GitHub Bot\n",
      "14/Dec/16 14:55\n",
      "1481727300\n",
      "GitHub user bobpaulin opened a pull request:https://github.com/apache/camel/pull/1348CAMEL-10597- Allow addition of x-className to empty VendorExtensionsYou can merge this pull request into a Git repository by running:$ git pullhttps://github.com/bobpaulin/camelCAMEL-10597Alternatively you can review and apply these changes as the patch at:https://github.com/apache/camel/pull/1348.patchTo close this pull request, make a commit to your master/trunk branchwith (at least) the following in the commit message:This closes #1348\n",
      "Bob Paulin\n",
      "14/Dec/16 14:56\n",
      "1481727360\n",
      "PR includedhttps://github.com/apache/camel/pull/1348\n",
      "Claus Ibsen\n",
      "14/Dec/16 15:31\n",
      "1481729460\n",
      "Thanks for the PR\n",
      "ASF GitHub Bot\n",
      "14/Dec/16 15:34\n",
      "1481729640\n",
      "Github user bobpaulin closed the pull request at:https://github.com/apache/camel/pull/1348\n",
      "Andrea Cosentino\n",
      "15/Dec/16 14:05\n",
      "1481810700\n",
      "2.17.x is affected toodavsclaus\n",
      "Claus Ibsen\n",
      "15/Dec/16 14:26\n",
      "1481811960\n",
      "Thanks its backported now\n"
     ]
    }
   ],
   "source": [
    "driver = webdriver.Chrome()\n",
    "driver.get(url)\n",
    "html = driver.page_source\n",
    "driver.quit()\n",
    "soup = BeautifulSoup(html, 'html.parser')\n",
    "\n",
    "comments_sec = soup.find_all('div', {'class':'issue-data-block activity-comment twixi-block expanded'})\n",
    "\n",
    "for sec in comments_sec:\n",
    "    comment = sec.find('div', {'class':'twixi-wrap verbose actionContainer'})\n",
    "        \n",
    "    author = comment.find('a',{'class' : 'user-hover user-avatar'}).text.strip()\n",
    "    created_at = comment.find('time').text.strip()\n",
    "    created_at_epoch = time_epoch(created_at)\n",
    "    text = comment.find('div', {'class':'action-body flooded'}).get_text(strip=True)\n",
    "    print(author)\n",
    "    print(created_at)\n",
    "    print(created_at_epoch)\n",
    "    print(text)\n"
   ]
  },
  {
   "cell_type": "code",
   "execution_count": null,
   "metadata": {},
   "outputs": [],
   "source": []
  }
 ],
 "metadata": {
  "kernelspec": {
   "display_name": "llms",
   "language": "python",
   "name": "python3"
  },
  "language_info": {
   "codemirror_mode": {
    "name": "ipython",
    "version": 3
   },
   "file_extension": ".py",
   "mimetype": "text/x-python",
   "name": "python",
   "nbconvert_exporter": "python",
   "pygments_lexer": "ipython3",
   "version": "3.11.12"
  }
 },
 "nbformat": 4,
 "nbformat_minor": 2
}
