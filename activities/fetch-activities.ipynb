{
 "cells": [
  {
   "cell_type": "code",
   "execution_count": 103,
   "metadata": {},
   "outputs": [
    {
     "data": {
      "text/plain": [
       "True"
      ]
     },
     "execution_count": 103,
     "metadata": {},
     "output_type": "execute_result"
    }
   ],
   "source": [
    "from dotenv import load_dotenv\n",
    "import os\n",
    "import requests\n",
    "load_dotenv('../.env')"
   ]
  },
  {
   "cell_type": "code",
   "execution_count": 104,
   "metadata": {},
   "outputs": [
    {
     "name": "stdout",
     "output_type": "stream",
     "text": [
      "GITHUB TOKEN found in envirionment\n"
     ]
    }
   ],
   "source": [
    "BEARER_TOKEN = os.getenv('GITHUB_TOKEN')\n",
    "if BEARER_TOKEN :\n",
    "    print('GITHUB TOKEN found in envirionment')\n",
    "else:\n",
    "   print('GITHUB TOKEN not found')"
   ]
  },
  {
   "cell_type": "code",
   "execution_count": 105,
   "metadata": {},
   "outputs": [],
   "source": [
    "USER = 'Kaggle' # will take input from the user instead hardcoded\n",
    "BASE_URL = 'https://api.github.com/'\n",
    "\n",
    "\n",
    "response = requests.get(\n",
    "    f'{BASE_URL}/users/{USER}/repos',\n",
    "    headers={\n",
    "        'Authorization': f'Bearer {BEARER_TOKEN}'\n",
    "    }\n",
    ")\n",
    "repositories = response.json()"
   ]
  },
  {
   "cell_type": "code",
   "execution_count": 115,
   "metadata": {},
   "outputs": [],
   "source": [
    "class Repository:\n",
    "    name = ''\n",
    "    stargazers_count = 0\n",
    "    forks_count = 0\n",
    "    \n",
    "    # further api metrics\n",
    "\n",
    "    commits_count = 0\n",
    "    contributors_count = 0\n",
    "    branches_count = 0\n",
    "    tags_count = 0\n",
    "    releases_count = 0\n",
    "    closed_issues_count = 0\n",
    "    enviroments_count = 0\n",
    "\n",
    "    def __init__(self, name, stargazers_count, forks_count):\n",
    "        self.name = name\n",
    "        self.stargazers_count = stargazers_count\n",
    "        self.forks_count = forks_count\n",
    "\n",
    "        self.commits_count = self.__get_metrics_count('commits')\n",
    "        self.contributors_count = self.__get_metrics_count('contributors')\n",
    "        self.branches_count = self.__get_metrics_count('branches')\n",
    "        self.tags_count = self.__get_metrics_count('tags')\n",
    "        self.issues_count = self.__get_metrics_count('issues')\n",
    "        self.releases_count = self.__get_metrics_count('releases')    \n",
    "        self.enviroments_count = self.__get_metrics_count('environments')    \n",
    "  \n",
    "    def __get_metrics_count(self, url_extension):\n",
    "        url = f'{BASE_URL}/repos/{USER}/{self.name}/{url_extension}'\n",
    "        response = requests.get(url, headers={\n",
    "            'Authorization': f'Bearer {BEARER_TOKEN}'\n",
    "        })\n",
    "        if url_extension == 'environments' :\n",
    "            return response.json().get('total_count')\n",
    "        return len(response.json())\n",
    "    \n",
    "    def to_dict(self):\n",
    "        return {\n",
    "            'name': self.name,\n",
    "            'stargazers_count': self.stargazers_count,\n",
    "            'forks_count': self.forks_count,\n",
    "            'commits_count': self.commits_count,\n",
    "            'contributors_count': self.contributors_count,\n",
    "            'branches_count': self.branches_count,\n",
    "            'tags_count': self.tags_count,\n",
    "            'releases_count': self.releases_count,\n",
    "            'closed_issues_count': self.closed_issues_count,\n",
    "            'environments_count' : self.enviroments_count\n",
    "            \n",
    "        }\n",
    "\n"
   ]
  },
  {
   "cell_type": "code",
   "execution_count": 116,
   "metadata": {},
   "outputs": [
    {
     "name": "stdout",
     "output_type": "stream",
     "text": [
      ".allstar\n"
     ]
    }
   ],
   "source": [
    "print(repositories[0]['name'])"
   ]
  },
  {
   "cell_type": "code",
   "execution_count": null,
   "metadata": {},
   "outputs": [
    {
     "data": {
      "text/plain": [
       "{'name': 'docker-julia',\n",
       " 'stargazers_count': 36,\n",
       " 'forks_count': 12,\n",
       " 'commits_count': 30,\n",
       " 'contributors_count': 6,\n",
       " 'branches_count': 1,\n",
       " 'tags_count': 0,\n",
       " 'releases_count': 0,\n",
       " 'closed_issues_count': 0,\n",
       " 'environments_count': 0}"
      ]
     },
     "execution_count": 117,
     "metadata": {},
     "output_type": "execute_result"
    }
   ],
   "source": [
    "repo = Repository(repositories[1]['name'], repositories[1]['stargazers_count'], repositories[1]['forks_count'])\n",
    "repo.to_dict()"
   ]
  },
  {
   "cell_type": "code",
   "execution_count": 118,
   "metadata": {},
   "outputs": [
    {
     "data": {
      "text/plain": [
       "[{'name': '.allstar',\n",
       "  'stargazers_count': 1,\n",
       "  'forks_count': 0,\n",
       "  'commits_count': 1,\n",
       "  'contributors_count': 0,\n",
       "  'branches_count': 1,\n",
       "  'tags_count': 0,\n",
       "  'releases_count': 0,\n",
       "  'closed_issues_count': 0,\n",
       "  'environments_count': 0},\n",
       " {'name': 'docker-julia',\n",
       "  'stargazers_count': 36,\n",
       "  'forks_count': 12,\n",
       "  'commits_count': 30,\n",
       "  'contributors_count': 6,\n",
       "  'branches_count': 1,\n",
       "  'tags_count': 0,\n",
       "  'releases_count': 0,\n",
       "  'closed_issues_count': 0,\n",
       "  'environments_count': 0},\n",
       " {'name': 'docker-python',\n",
       "  'stargazers_count': 2566,\n",
       "  'forks_count': 980,\n",
       "  'commits_count': 30,\n",
       "  'contributors_count': 30,\n",
       "  'branches_count': 30,\n",
       "  'tags_count': 30,\n",
       "  'releases_count': 30,\n",
       "  'closed_issues_count': 0,\n",
       "  'environments_count': 0},\n",
       " {'name': 'docker-rcran',\n",
       "  'stargazers_count': 20,\n",
       "  'forks_count': 14,\n",
       "  'commits_count': 30,\n",
       "  'contributors_count': 9,\n",
       "  'branches_count': 8,\n",
       "  'tags_count': 0,\n",
       "  'releases_count': 0,\n",
       "  'closed_issues_count': 0,\n",
       "  'environments_count': 0},\n",
       " {'name': 'docker-rstats',\n",
       "  'stargazers_count': 144,\n",
       "  'forks_count': 91,\n",
       "  'commits_count': 30,\n",
       "  'contributors_count': 18,\n",
       "  'branches_count': 4,\n",
       "  'tags_count': 30,\n",
       "  'releases_count': 30,\n",
       "  'closed_issues_count': 0,\n",
       "  'environments_count': 0},\n",
       " {'name': 'jupyterlab',\n",
       "  'stargazers_count': 43,\n",
       "  'forks_count': 9,\n",
       "  'commits_count': 30,\n",
       "  'contributors_count': 4,\n",
       "  'branches_count': 3,\n",
       "  'tags_count': 0,\n",
       "  'releases_count': 0,\n",
       "  'closed_issues_count': 0,\n",
       "  'environments_count': 0},\n",
       " {'name': 'kaggle-api',\n",
       "  'stargazers_count': 6615,\n",
       "  'forks_count': 1165,\n",
       "  'commits_count': 30,\n",
       "  'contributors_count': 30,\n",
       "  'branches_count': 17,\n",
       "  'tags_count': 10,\n",
       "  'releases_count': 10,\n",
       "  'closed_issues_count': 0,\n",
       "  'environments_count': 0},\n",
       " {'name': 'kaggle-environments',\n",
       "  'stargazers_count': 320,\n",
       "  'forks_count': 158,\n",
       "  'commits_count': 30,\n",
       "  'contributors_count': 30,\n",
       "  'branches_count': 30,\n",
       "  'tags_count': 30,\n",
       "  'releases_count': 6,\n",
       "  'closed_issues_count': 0,\n",
       "  'environments_count': 0},\n",
       " {'name': 'kagglehub',\n",
       "  'stargazers_count': 240,\n",
       "  'forks_count': 53,\n",
       "  'commits_count': 30,\n",
       "  'contributors_count': 18,\n",
       "  'branches_count': 30,\n",
       "  'tags_count': 30,\n",
       "  'releases_count': 28,\n",
       "  'closed_issues_count': 0,\n",
       "  'environments_count': 0},\n",
       " {'name': 'kagglesdk',\n",
       "  'stargazers_count': 1,\n",
       "  'forks_count': 0,\n",
       "  'commits_count': 3,\n",
       "  'contributors_count': 1,\n",
       "  'branches_count': 1,\n",
       "  'tags_count': 0,\n",
       "  'releases_count': 0,\n",
       "  'closed_issues_count': 0,\n",
       "  'environments_count': 0},\n",
       " {'name': 'learntools',\n",
       "  'stargazers_count': 476,\n",
       "  'forks_count': 259,\n",
       "  'commits_count': 30,\n",
       "  'contributors_count': 30,\n",
       "  'branches_count': 30,\n",
       "  'tags_count': 2,\n",
       "  'releases_count': 0,\n",
       "  'closed_issues_count': 0,\n",
       "  'environments_count': 0},\n",
       " {'name': 'pipelinehelpers',\n",
       "  'stargazers_count': 7,\n",
       "  'forks_count': 6,\n",
       "  'commits_count': 2,\n",
       "  'contributors_count': 1,\n",
       "  'branches_count': 1,\n",
       "  'tags_count': 0,\n",
       "  'releases_count': 0,\n",
       "  'closed_issues_count': 0,\n",
       "  'environments_count': 0}]"
      ]
     },
     "execution_count": 118,
     "metadata": {},
     "output_type": "execute_result"
    }
   ],
   "source": [
    "repo_metrics = []\n",
    "for repo in repositories:\n",
    "    repo_metrics.append(Repository(repo['name'], repo['stargazers_count'], repo['forks_count']).to_dict())\n",
    "repo_metrics\n"
   ]
  },
  {
   "cell_type": "code",
   "execution_count": 125,
   "metadata": {},
   "outputs": [],
   "source": [
    "class RepostioyStats:\n",
    "    \n",
    "    def __init__(self, repositories):\n",
    "        self.repositories = repositories\n",
    "        self.total_repos = len(repositories)\n",
    "\n",
    "        self.total_stargazers_count = sum([repo.get('stargazers_count') for repo in repositories])\n",
    "        self.median_stargazers_count = self.total_stargazers_count / self.total_repos\n",
    "        \n",
    "        self.total_forks_count = sum([repo.get('forks_count') for repo in repositories])\n",
    "        self.median_forks_count = self.total_forks_count / self.total_repos\n",
    "        \n",
    "        self.total_commits_count = sum([repo.get('commits_count') for repo in repositories])\n",
    "        self.median_commits_count = self.total_commits_count / self.total_repos\n",
    "\n",
    "        self.total_contributors_count = sum([repo.get('contributors_count') for repo in repositories])\n",
    "        self.median_contributors_count = self.total_contributors_count / self.total_repos\n",
    "\n",
    "        self.total_branches_count = sum([repo.get('branches_count') for repo in repositories])\n",
    "        self.median_branches_count = self.total_branches_count / self.total_repos\n",
    "\n",
    "        self.total_tags_count = sum([repo.get('tags_count') for repo in repositories])\n",
    "        self.median_tags_count = self.total_tags_count / self.total_repos\n",
    "\n",
    "        self.total_releases_count = sum([repo.get('releases_count') for repo in repositories])\n",
    "        self.median_releases_count = self.total_releases_count / self.total_repos\n",
    "\n",
    "        self.total_closed_issues_count = sum([repo.get('closed_issues_count') for repo in repositories])\n",
    "        self.median_closed_issues_count = self.total_closed_issues_count / self.total_repos\n",
    "        \n",
    "        self.total_enviroments_count = sum([repo.get('environments_count') for repo in repositories])\n",
    "        self.median_enviroments_count = self.total_enviroments_count / self.total_repos\n",
    "        \n",
    "    \n",
    "    def to_dict(self):\n",
    "        return {\n",
    "            # 'repositories' : self.repositories,\n",
    "            'total_repos': self.total_repos,\n",
    "            'total_stargazers_count': self.total_stargazers_count,\n",
    "            'median_stargazers_count': self.median_stargazers_count,\n",
    "            'total_forks_count': self.total_forks_count,\n",
    "            'median_forks_count': self.median_forks_count,\n",
    "            'total_commits_count': self.total_commits_count,\n",
    "            'median_commits_count': self.median_commits_count,\n",
    "            'total_contributors_count': self.total_contributors_count,\n",
    "            'median_contributors_count': self.median_contributors_count,\n",
    "            'total_branches_count': self.total_branches_count,\n",
    "            'median_branches_count': self.median_branches_count,\n",
    "            'total_tags_count': self.total_tags_count,\n",
    "            'median_tags_count': self.median_tags_count,\n",
    "            'total_releases_count': self.total_releases_count,\n",
    "            'median_releases_count': self.median_releases_count,\n",
    "            'total_closed_issues_count': self.total_closed_issues_count,\n",
    "            'median_issues_count': self.median_closed_issues_count,\n",
    "            'total_environments_count' : self.total_enviroments_count,\n",
    "            'median_environments_count' : self.median_enviroments_count \n",
    "        }"
   ]
  },
  {
   "cell_type": "code",
   "execution_count": 130,
   "metadata": {},
   "outputs": [
    {
     "data": {
      "text/plain": [
       "{'total_repos': 12,\n",
       " 'total_stargazers_count': 10469,\n",
       " 'median_stargazers_count': 872.4166666666666,\n",
       " 'total_forks_count': 2747,\n",
       " 'median_forks_count': 228.91666666666666,\n",
       " 'total_commits_count': 276,\n",
       " 'median_commits_count': 23.0,\n",
       " 'total_contributors_count': 177,\n",
       " 'median_contributors_count': 14.75,\n",
       " 'total_branches_count': 156,\n",
       " 'median_branches_count': 13.0,\n",
       " 'total_tags_count': 132,\n",
       " 'median_tags_count': 11.0,\n",
       " 'total_releases_count': 104,\n",
       " 'median_releases_count': 8.666666666666666,\n",
       " 'total_closed_issues_count': 0,\n",
       " 'median_issues_count': 0.0,\n",
       " 'total_environments_count': 0,\n",
       " 'median_environments_count': 0.0}"
      ]
     },
     "execution_count": 130,
     "metadata": {},
     "output_type": "execute_result"
    }
   ],
   "source": [
    "repo_stats = RepostioyStats(repo_metrics)\n",
    "repo_stats.to_dict()"
   ]
  },
  {
   "cell_type": "code",
   "execution_count": 132,
   "metadata": {},
   "outputs": [],
   "source": [
    "# repo_stats.repositories"
   ]
  },
  {
   "cell_type": "code",
   "execution_count": null,
   "metadata": {},
   "outputs": [],
   "source": []
  }
 ],
 "metadata": {
  "kernelspec": {
   "display_name": "llms",
   "language": "python",
   "name": "python3"
  },
  "language_info": {
   "codemirror_mode": {
    "name": "ipython",
    "version": 3
   },
   "file_extension": ".py",
   "mimetype": "text/x-python",
   "name": "python",
   "nbconvert_exporter": "python",
   "pygments_lexer": "ipython3",
   "version": "3.11.12"
  }
 },
 "nbformat": 4,
 "nbformat_minor": 2
}
