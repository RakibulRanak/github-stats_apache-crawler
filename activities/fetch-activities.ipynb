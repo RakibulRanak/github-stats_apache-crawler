{
 "cells": [
  {
   "cell_type": "code",
   "execution_count": 50,
   "metadata": {},
   "outputs": [
    {
     "data": {
      "text/plain": [
       "True"
      ]
     },
     "execution_count": 50,
     "metadata": {},
     "output_type": "execute_result"
    }
   ],
   "source": [
    "from dotenv import load_dotenv\n",
    "import os\n",
    "import requests\n",
    "load_dotenv('../.env')"
   ]
  },
  {
   "cell_type": "code",
   "execution_count": 51,
   "metadata": {},
   "outputs": [
    {
     "name": "stdout",
     "output_type": "stream",
     "text": [
      "GITHUB TOKEN found in envirionment\n"
     ]
    }
   ],
   "source": [
    "BEARER_TOKEN = os.getenv('GITHUB_TOKEN')\n",
    "if BEARER_TOKEN :\n",
    "    print('GITHUB TOKEN found in envirionment')\n",
    "else:\n",
    "   print('GITHUB TOKEN not found')"
   ]
  },
  {
   "cell_type": "code",
   "execution_count": null,
   "metadata": {},
   "outputs": [],
   "source": [
    "USER = 'Kaggle' # will take input from the user instead hardcoded\n",
    "BASE_URL = 'https://api.github.com/'\n",
    "\n",
    "\n",
    "response = requests.get(\n",
    "    f'{BASE_URL}/users/{USER}/repos',\n",
    "    headers={\n",
    "        'Authorization': f'Bearer {BEARER_TOKEN}'\n",
    "    }\n",
    ")\n",
    "repositories = response.json()\n",
    "repositories"
   ]
  },
  {
   "cell_type": "code",
   "execution_count": 53,
   "metadata": {},
   "outputs": [],
   "source": [
    "class Repository:\n",
    "    name = ''\n",
    "    stargazers_count = 0\n",
    "    forks_count = 0\n",
    "\n",
    "    # further api metrics\n",
    "\n",
    "    commits_count = 0\n",
    "    contributors_count = 0\n",
    "    branches_count = 0\n",
    "    tags_count = 0\n",
    "    issues_count = 0\n",
    "    releases_count = 0\n",
    "    closed_issues_count = 0\n",
    "    enviroments_count = 0\n",
    "\n",
    "    def __init__(self, name, stargazers_count, forks_count):\n",
    "        self.name = name\n",
    "        self.stargazers_count = stargazers_count\n",
    "        self.forks_count = forks_count\n",
    "\n",
    "        self.commits_count = self.__get_metrics_count('commits')\n",
    "        self.contributors_count = self.__get_metrics_count('contributors')\n",
    "        self.branches_count = self.__get_metrics_count('branches')\n",
    "        self.tags_count = self.__get_metrics_count('tags')\n",
    "        self.issues_count = self.__get_metrics_count('issues')\n",
    "        self.releases_count = self.__get_metrics_count('releases')        \n",
    "  \n",
    "    def __get_metrics_count(self, url_extension):\n",
    "        url = f'{BASE_URL}/repos/{USER}/{self.name}/{url_extension}'\n",
    "        response = requests.get(url, headers={\n",
    "            'Authorization': f'Bearer {BEARER_TOKEN}'\n",
    "        })\n",
    "        return len(response.json())\n",
    "    \n",
    "    def to_dict(self):\n",
    "        return {\n",
    "            'name': self.name,\n",
    "            'stargazers_count': self.stargazers_count,\n",
    "            'forks_count': self.forks_count,\n",
    "            'commits_count': self.commits_count,\n",
    "            'contributors_count': self.contributors_count,\n",
    "            'branches_count': self.branches_count,\n",
    "            'tags_count': self.tags_count,\n",
    "            'issues_count': self.issues_count,\n",
    "            'releases_count': self.releases_count,\n",
    "        }\n",
    "\n"
   ]
  },
  {
   "cell_type": "code",
   "execution_count": 54,
   "metadata": {},
   "outputs": [
    {
     "name": "stdout",
     "output_type": "stream",
     "text": [
      ".allstar\n"
     ]
    }
   ],
   "source": [
    "print(repositories[0]['name'])"
   ]
  },
  {
   "cell_type": "code",
   "execution_count": 57,
   "metadata": {},
   "outputs": [
    {
     "data": {
      "text/plain": [
       "{'name': 'docker-julia',\n",
       " 'stargazers_count': 36,\n",
       " 'forks_count': 12,\n",
       " 'commits_count': 30,\n",
       " 'contributors_count': 6,\n",
       " 'branches_count': 1,\n",
       " 'tags_count': 0,\n",
       " 'issues_count': 1,\n",
       " 'releases_count': 0}"
      ]
     },
     "execution_count": 57,
     "metadata": {},
     "output_type": "execute_result"
    }
   ],
   "source": [
    "repo = Repository(repositories[1]['name'], repositories[1]['stargazers_count'], repositories[1]['forks_count'])\n",
    "repo.to_dict()\n"
   ]
  },
  {
   "cell_type": "code",
   "execution_count": 56,
   "metadata": {},
   "outputs": [
    {
     "data": {
      "text/plain": [
       "[{'name': '.allstar',\n",
       "  'stargazers_count': 1,\n",
       "  'forks_count': 0,\n",
       "  'commits_count': 1,\n",
       "  'contributors_count': 0,\n",
       "  'branches_count': 1,\n",
       "  'tags_count': 0,\n",
       "  'issues_count': 0,\n",
       "  'releases_count': 0},\n",
       " {'name': 'docker-julia',\n",
       "  'stargazers_count': 36,\n",
       "  'forks_count': 12,\n",
       "  'commits_count': 30,\n",
       "  'contributors_count': 6,\n",
       "  'branches_count': 1,\n",
       "  'tags_count': 0,\n",
       "  'issues_count': 1,\n",
       "  'releases_count': 0},\n",
       " {'name': 'docker-python',\n",
       "  'stargazers_count': 2566,\n",
       "  'forks_count': 980,\n",
       "  'commits_count': 30,\n",
       "  'contributors_count': 30,\n",
       "  'branches_count': 30,\n",
       "  'tags_count': 30,\n",
       "  'issues_count': 28,\n",
       "  'releases_count': 30},\n",
       " {'name': 'docker-rcran',\n",
       "  'stargazers_count': 20,\n",
       "  'forks_count': 14,\n",
       "  'commits_count': 30,\n",
       "  'contributors_count': 9,\n",
       "  'branches_count': 8,\n",
       "  'tags_count': 0,\n",
       "  'issues_count': 4,\n",
       "  'releases_count': 0},\n",
       " {'name': 'docker-rstats',\n",
       "  'stargazers_count': 144,\n",
       "  'forks_count': 91,\n",
       "  'commits_count': 30,\n",
       "  'contributors_count': 18,\n",
       "  'branches_count': 4,\n",
       "  'tags_count': 30,\n",
       "  'issues_count': 6,\n",
       "  'releases_count': 30},\n",
       " {'name': 'jupyterlab',\n",
       "  'stargazers_count': 43,\n",
       "  'forks_count': 9,\n",
       "  'commits_count': 30,\n",
       "  'contributors_count': 4,\n",
       "  'branches_count': 3,\n",
       "  'tags_count': 0,\n",
       "  'issues_count': 3,\n",
       "  'releases_count': 0},\n",
       " {'name': 'kaggle-api',\n",
       "  'stargazers_count': 6615,\n",
       "  'forks_count': 1165,\n",
       "  'commits_count': 30,\n",
       "  'contributors_count': 30,\n",
       "  'branches_count': 18,\n",
       "  'tags_count': 10,\n",
       "  'issues_count': 30,\n",
       "  'releases_count': 10},\n",
       " {'name': 'kaggle-environments',\n",
       "  'stargazers_count': 320,\n",
       "  'forks_count': 158,\n",
       "  'commits_count': 30,\n",
       "  'contributors_count': 30,\n",
       "  'branches_count': 30,\n",
       "  'tags_count': 30,\n",
       "  'issues_count': 30,\n",
       "  'releases_count': 6},\n",
       " {'name': 'kagglehub',\n",
       "  'stargazers_count': 240,\n",
       "  'forks_count': 53,\n",
       "  'commits_count': 30,\n",
       "  'contributors_count': 18,\n",
       "  'branches_count': 30,\n",
       "  'tags_count': 30,\n",
       "  'issues_count': 13,\n",
       "  'releases_count': 28},\n",
       " {'name': 'kagglesdk',\n",
       "  'stargazers_count': 1,\n",
       "  'forks_count': 0,\n",
       "  'commits_count': 3,\n",
       "  'contributors_count': 1,\n",
       "  'branches_count': 1,\n",
       "  'tags_count': 0,\n",
       "  'issues_count': 0,\n",
       "  'releases_count': 0},\n",
       " {'name': 'learntools',\n",
       "  'stargazers_count': 476,\n",
       "  'forks_count': 259,\n",
       "  'commits_count': 30,\n",
       "  'contributors_count': 30,\n",
       "  'branches_count': 30,\n",
       "  'tags_count': 2,\n",
       "  'issues_count': 30,\n",
       "  'releases_count': 0},\n",
       " {'name': 'pipelinehelpers',\n",
       "  'stargazers_count': 7,\n",
       "  'forks_count': 6,\n",
       "  'commits_count': 2,\n",
       "  'contributors_count': 1,\n",
       "  'branches_count': 1,\n",
       "  'tags_count': 0,\n",
       "  'issues_count': 0,\n",
       "  'releases_count': 0}]"
      ]
     },
     "execution_count": 56,
     "metadata": {},
     "output_type": "execute_result"
    }
   ],
   "source": [
    "repo_metrics = []\n",
    "for repo in repositories:\n",
    "    repo_metrics.append(Repository(repo['name'], repo['stargazers_count'], repo['forks_count']).to_dict())\n",
    "repo_metrics\n"
   ]
  },
  {
   "cell_type": "code",
   "execution_count": null,
   "metadata": {},
   "outputs": [],
   "source": []
  }
 ],
 "metadata": {
  "kernelspec": {
   "display_name": "llms",
   "language": "python",
   "name": "python3"
  },
  "language_info": {
   "codemirror_mode": {
    "name": "ipython",
    "version": 3
   },
   "file_extension": ".py",
   "mimetype": "text/x-python",
   "name": "python",
   "nbconvert_exporter": "python",
   "pygments_lexer": "ipython3",
   "version": "3.11.12"
  }
 },
 "nbformat": 4,
 "nbformat_minor": 2
}
