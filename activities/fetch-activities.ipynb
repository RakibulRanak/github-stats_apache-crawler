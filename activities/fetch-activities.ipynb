{
 "cells": [
  {
   "cell_type": "code",
   "execution_count": 22,
   "metadata": {},
   "outputs": [
    {
     "data": {
      "text/plain": [
       "True"
      ]
     },
     "execution_count": 22,
     "metadata": {},
     "output_type": "execute_result"
    }
   ],
   "source": [
    "from dotenv import load_dotenv\n",
    "import os\n",
    "import requests\n",
    "load_dotenv('../.env')"
   ]
  },
  {
   "cell_type": "code",
   "execution_count": 23,
   "metadata": {},
   "outputs": [
    {
     "name": "stdout",
     "output_type": "stream",
     "text": [
      "GITHUB TOKEN found in envirionment\n"
     ]
    }
   ],
   "source": [
    "BEARER_TOKEN = os.getenv('GITHUB_TOKEN')\n",
    "if BEARER_TOKEN :\n",
    "    print('GITHUB TOKEN found in envirionment')\n",
    "else:\n",
    "   print('GITHUB TOKEN not found')"
   ]
  },
  {
   "cell_type": "code",
   "execution_count": null,
   "metadata": {},
   "outputs": [],
   "source": [
    "USER = 'Kaggle' # will take input from the user instead hardcoded\n",
    "BASE_URL = 'https://api.github.com/'\n",
    "\n",
    "\n",
    "response = requests.get(\n",
    "    f'{BASE_URL}/users/{USER}/repos',\n",
    "    headers={\n",
    "        'Authorization': f'Bearer {BEARER_TOKEN}'\n",
    "    }\n",
    ")\n",
    "repositories = response.json()\n",
    "repositories"
   ]
  },
  {
   "cell_type": "code",
   "execution_count": 25,
   "metadata": {},
   "outputs": [],
   "source": [
    "class Repository:\n",
    "    name = ''\n",
    "    stargazers_count = 0\n",
    "    forks_count = 0\n",
    "\n",
    "    # further api metrics\n",
    "\n",
    "    commits_count = 0\n",
    "    contributors_count = 0\n",
    "    branches_count = 0\n",
    "    tags_count = 0\n",
    "    issues_count = 0\n",
    "    releases_count = 0\n",
    "    closed_issues_count = 0\n",
    "    enviroments_count = 0\n",
    "\n",
    "    def __init__(self, name, stargazers_count, forks_count):\n",
    "        self.name = name\n",
    "        self.stargazers_count = stargazers_count\n",
    "        self.forks_count = forks_count\n",
    "\n",
    "        self.commits_count = self.__get_metrics_count('commits')\n",
    "        self.contributors_count = self.__get_metrics_count('contributors')\n",
    "        self.branches_count = self.__get_metrics_count('branches')\n",
    "        self.tags_count = self.__get_metrics_count('tags')\n",
    "        self.issues_count = self.__get_metrics_count('issues')\n",
    "        self.releases_count = self.__get_metrics_count('releases')        \n",
    "  \n",
    "    def __get_metrics_count(self, url_extension):\n",
    "        url = f'{BASE_URL}/repos/{USER}/{self.name}/{url_extension}'\n",
    "        response = requests.get(url, headers={\n",
    "            'Authorization': f'Bearer {BEARER_TOKEN}'\n",
    "        })\n",
    "        return len(response.json())"
   ]
  },
  {
   "cell_type": "code",
   "execution_count": 30,
   "metadata": {},
   "outputs": [
    {
     "name": "stdout",
     "output_type": "stream",
     "text": [
      ".allstar\n"
     ]
    }
   ],
   "source": [
    "print(repositories[0]['name'])"
   ]
  },
  {
   "cell_type": "code",
   "execution_count": 34,
   "metadata": {},
   "outputs": [
    {
     "name": "stdout",
     "output_type": "stream",
     "text": [
      "30\n",
      "6\n",
      "1\n",
      "0\n",
      "1\n",
      "0\n",
      "0\n"
     ]
    }
   ],
   "source": [
    "repo = Repository(repositories[1]['name'], repositories[1]['stargazers_count'], repositories[1]['forks_count'])\n",
    "    \n",
    "print(repo.commits_count)\n",
    "print(repo.contributors_count)\n",
    "print(repo.branches_count)\n",
    "print(repo.tags_count)\n",
    "print(repo.issues_count)\n",
    "print(repo.releases_count)\n",
    "print(repo.closed_issues_count)\n"
   ]
  },
  {
   "cell_type": "code",
   "execution_count": null,
   "metadata": {},
   "outputs": [],
   "source": []
  }
 ],
 "metadata": {
  "kernelspec": {
   "display_name": "llms",
   "language": "python",
   "name": "python3"
  },
  "language_info": {
   "codemirror_mode": {
    "name": "ipython",
    "version": 3
   },
   "file_extension": ".py",
   "mimetype": "text/x-python",
   "name": "python",
   "nbconvert_exporter": "python",
   "pygments_lexer": "ipython3",
   "version": "3.11.12"
  }
 },
 "nbformat": 4,
 "nbformat_minor": 2
}
