{
 "cells": [
  {
   "cell_type": "code",
   "execution_count": 117,
   "metadata": {},
   "outputs": [
    {
     "data": {
      "text/plain": [
       "True"
      ]
     },
     "execution_count": 117,
     "metadata": {},
     "output_type": "execute_result"
    }
   ],
   "source": [
    "from dotenv import load_dotenv\n",
    "import os\n",
    "import requests\n",
    "from tqdm import tqdm\n",
    "import json\n",
    "load_dotenv('../.env')"
   ]
  },
  {
   "cell_type": "code",
   "execution_count": 118,
   "metadata": {},
   "outputs": [
    {
     "name": "stdout",
     "output_type": "stream",
     "text": [
      "GITHUB TOKEN found in envirionment\n"
     ]
    }
   ],
   "source": [
    "BEARER_TOKEN = os.getenv('GITHUB_TOKEN')\n",
    "if BEARER_TOKEN :\n",
    "    print('GITHUB TOKEN found in envirionment')\n",
    "else:\n",
    "   print('GITHUB TOKEN not found')"
   ]
  },
  {
   "cell_type": "code",
   "execution_count": 119,
   "metadata": {},
   "outputs": [
    {
     "name": "stdout",
     "output_type": "stream",
     "text": [
      "Total public repositories found : 12\n"
     ]
    }
   ],
   "source": [
    "USER = 'Kaggle' # will take input from the user instead hardcoded\n",
    "BASE_URL = 'https://api.github.com/'\n",
    "\n",
    "\n",
    "response = requests.get(\n",
    "    f'{BASE_URL}/users/{USER}/repos',\n",
    "    headers={\n",
    "        'Authorization': f'Bearer {BEARER_TOKEN}'\n",
    "    }\n",
    ")\n",
    "repositories = response.json()\n",
    "print(f'Total public repositories found : {len(repositories)}')"
   ]
  },
  {
   "cell_type": "code",
   "execution_count": 120,
   "metadata": {},
   "outputs": [],
   "source": [
    "class Repository:\n",
    "    name = ''\n",
    "    stargazers_count = 0\n",
    "    forks_count = 0\n",
    "    \n",
    "    # further api metrics\n",
    "\n",
    "    commits_count = 0\n",
    "    contributors_count = 0\n",
    "    branches_count = 0\n",
    "    tags_count = 0\n",
    "    releases_count = 0\n",
    "    closed_issues_count = 0\n",
    "    enviroments_count = 0\n",
    "\n",
    "    def __init__(self, name, stargazers_count, forks_count):\n",
    "        self.name = name\n",
    "        self.stargazers_count = stargazers_count\n",
    "        self.forks_count = forks_count\n",
    "\n",
    "        self.commits_count = self.__get_metrics_count('commits')\n",
    "        self.contributors_count = self.__get_metrics_count('contributors')\n",
    "        self.branches_count = self.__get_metrics_count('branches')\n",
    "        self.tags_count = self.__get_metrics_count('tags')\n",
    "        self.closed_issues_count = self.__get_metrics_count('issues')\n",
    "        self.releases_count = self.__get_metrics_count('releases')    \n",
    "        self.enviroments_count = self.__get_metrics_count('environments')    \n",
    "  \n",
    "\n",
    "    def __get_metrics_count(self, url_extension):\n",
    "        total_count = 0\n",
    "        page = 1\n",
    "        per_page = 100  # Maximum allowed by GitHub API\n",
    "        \n",
    "        while True:\n",
    "            url = f'{BASE_URL}/repos/{USER}/{self.name}/{url_extension}?per_page={per_page}&page={page}'\n",
    "            if url_extension == 'issues':\n",
    "                url = f'{url}&state=closed'\n",
    "                \n",
    "            response = requests.get(url, headers={\n",
    "                'Authorization': f'Bearer {BEARER_TOKEN}'\n",
    "            })\n",
    "            \n",
    "            if url_extension == 'environments':\n",
    "                return response.json().get('total_count', 0)\n",
    "                \n",
    "            data = response.json()\n",
    "            \n",
    "            if not data:  # Empty response means we've reached the end\n",
    "                break\n",
    "\n",
    "            \n",
    "            if url_extension == 'issues':\n",
    "                issues_without_pull_request = 0\n",
    "                for issue in data:\n",
    "                    if not issue.get('pull_request'):  # If pull_request is None, it's a regular issue\n",
    "                        issues_without_pull_request += 1\n",
    "                total_count += issues_without_pull_request\n",
    "            else:\n",
    "                total_count += len(data)\n",
    "            \n",
    "            # Check if there are more pages\n",
    "            if 'next' not in response.links:\n",
    "                break\n",
    "                \n",
    "            page += 1\n",
    "            \n",
    "        return total_count\n",
    "    \n",
    "    def to_dict(self):\n",
    "        return {\n",
    "            'name': self.name,\n",
    "            'stargazers_count': self.stargazers_count,\n",
    "            'forks_count': self.forks_count,\n",
    "            'commits_count': self.commits_count,\n",
    "            'contributors_count': self.contributors_count,\n",
    "            'branches_count': self.branches_count,\n",
    "            'tags_count': self.tags_count,\n",
    "            'releases_count': self.releases_count,\n",
    "            'closed_issues_count': self.closed_issues_count,\n",
    "            'environments_count' : self.enviroments_count\n",
    "            \n",
    "        }"
   ]
  },
  {
   "cell_type": "code",
   "execution_count": 121,
   "metadata": {},
   "outputs": [
    {
     "data": {
      "text/plain": [
       "{'name': 'kaggle-api',\n",
       " 'stargazers_count': 6615,\n",
       " 'forks_count': 1165,\n",
       " 'commits_count': 278,\n",
       " 'contributors_count': 45,\n",
       " 'branches_count': 17,\n",
       " 'tags_count': 10,\n",
       " 'releases_count': 10,\n",
       " 'closed_issues_count': 377,\n",
       " 'environments_count': 0}"
      ]
     },
     "execution_count": 121,
     "metadata": {},
     "output_type": "execute_result"
    }
   ],
   "source": [
    "repo = Repository(repositories[6]['name'], repositories[6]['stargazers_count'], repositories[6]['forks_count'])\n",
    "repo.to_dict()"
   ]
  },
  {
   "cell_type": "code",
   "execution_count": 122,
   "metadata": {},
   "outputs": [
    {
     "name": "stderr",
     "output_type": "stream",
     "text": [
      "Fetching repository metrics: 100%|██████████| 12/12 [02:20<00:00, 11.70s/it]\n"
     ]
    },
    {
     "data": {
      "text/plain": [
       "[{'name': '.allstar',\n",
       "  'stargazers_count': 1,\n",
       "  'forks_count': 0,\n",
       "  'commits_count': 1,\n",
       "  'contributors_count': 0,\n",
       "  'branches_count': 1,\n",
       "  'tags_count': 0,\n",
       "  'releases_count': 0,\n",
       "  'closed_issues_count': 0,\n",
       "  'environments_count': 0},\n",
       " {'name': 'docker-julia',\n",
       "  'stargazers_count': 36,\n",
       "  'forks_count': 12,\n",
       "  'commits_count': 84,\n",
       "  'contributors_count': 6,\n",
       "  'branches_count': 1,\n",
       "  'tags_count': 0,\n",
       "  'releases_count': 0,\n",
       "  'closed_issues_count': 3,\n",
       "  'environments_count': 0}]"
      ]
     },
     "execution_count": 122,
     "metadata": {},
     "output_type": "execute_result"
    }
   ],
   "source": [
    "repo_metrics = []\n",
    "for repo in tqdm(repositories, desc='Fetching repository metrics'):\n",
    "    repo_metrics.append(Repository(repo['name'], repo['stargazers_count'], repo['forks_count']).to_dict())\n",
    "repo_metrics[:2]\n"
   ]
  },
  {
   "cell_type": "code",
   "execution_count": 123,
   "metadata": {},
   "outputs": [],
   "source": [
    "class RepostioyStats:\n",
    "    \n",
    "    def __init__(self, repositories):\n",
    "        self.repositories = repositories\n",
    "        self.total_repos = len(repositories)\n",
    "        self.user = USER\n",
    "\n",
    "        self.total_stargazers_count = sum([repo.get('stargazers_count') for repo in repositories])\n",
    "        self.median_stargazers_count = self.__get_median(self.total_stargazers_count)\n",
    "        \n",
    "        self.total_forks_count = sum([repo.get('forks_count') for repo in repositories])\n",
    "        self.median_forks_count = self.__get_median(self.total_forks_count)\n",
    "        \n",
    "        self.total_commits_count = sum([repo.get('commits_count') for repo in repositories])\n",
    "        self.median_commits_count = self.__get_median(self.total_commits_count)\n",
    "\n",
    "        self.total_contributors_count = sum([repo.get('contributors_count') for repo in repositories])\n",
    "        self.median_contributors_count = self.__get_median(self.total_contributors_count)\n",
    "\n",
    "        self.total_branches_count = sum([repo.get('branches_count') for repo in repositories])\n",
    "        self.median_branches_count = self.__get_median(self.total_branches_count)\n",
    "\n",
    "        self.total_tags_count = sum([repo.get('tags_count') for repo in repositories])\n",
    "        self.median_tags_count = self.__get_median(self.total_tags_count)\n",
    "\n",
    "        self.total_releases_count = sum([repo.get('releases_count') for repo in repositories])\n",
    "        self.median_releases_count = self.__get_median(self.total_releases_count)\n",
    "\n",
    "        self.total_closed_issues_count = sum([repo.get('closed_issues_count') for repo in repositories])\n",
    "        self.median_closed_issues_count = self.__get_median(self.total_closed_issues_count)\n",
    "        \n",
    "        self.total_enviroments_count = sum([repo.get('environments_count') for repo in repositories])\n",
    "        self.median_enviroments_count = self.__get_median(self.total_enviroments_count)\n",
    "    \n",
    "\n",
    "    def __get_median(self, value):\n",
    "        return round(value / self.total_repos, 2)\n",
    "    \n",
    "    def to_dict(self):\n",
    "        return {\n",
    "            'total_repos': self.total_repos,\n",
    "            'total_stargazers_count': self.total_stargazers_count,\n",
    "            'median_stargazers_count': self.median_stargazers_count,\n",
    "            'total_forks_count': self.total_forks_count,\n",
    "            'median_forks_count': self.median_forks_count,\n",
    "            'total_commits_count': self.total_commits_count,\n",
    "            'median_commits_count': self.median_commits_count,\n",
    "            'total_contributors_count': self.total_contributors_count,\n",
    "            'median_contributors_count': self.median_contributors_count,\n",
    "            'total_branches_count': self.total_branches_count,\n",
    "            'median_branches_count': self.median_branches_count,\n",
    "            'total_tags_count': self.total_tags_count,\n",
    "            'median_tags_count': self.median_tags_count,\n",
    "            'total_releases_count': self.total_releases_count,\n",
    "            'median_releases_count': self.median_releases_count,\n",
    "            'total_closed_issues_count': self.total_closed_issues_count,\n",
    "            'median_issues_count': self.median_closed_issues_count,\n",
    "            'total_environments_count' : self.total_enviroments_count,\n",
    "            'median_environments_count' : self.median_enviroments_count \n",
    "        }"
   ]
  },
  {
   "cell_type": "code",
   "execution_count": 124,
   "metadata": {},
   "outputs": [
    {
     "data": {
      "text/plain": [
       "{'total_repos': 12,\n",
       " 'total_stargazers_count': 10469,\n",
       " 'median_stargazers_count': 872.42,\n",
       " 'total_forks_count': 2747,\n",
       " 'median_forks_count': 228.92,\n",
       " 'total_commits_count': 7162,\n",
       " 'median_commits_count': 596.83,\n",
       " 'total_contributors_count': 306,\n",
       " 'median_contributors_count': 25.5,\n",
       " 'total_branches_count': 232,\n",
       " 'median_branches_count': 19.33,\n",
       " 'total_tags_count': 436,\n",
       " 'median_tags_count': 36.33,\n",
       " 'total_releases_count': 316,\n",
       " 'median_releases_count': 26.33,\n",
       " 'total_closed_issues_count': 847,\n",
       " 'median_issues_count': 70.58,\n",
       " 'total_environments_count': 0,\n",
       " 'median_environments_count': 0.0}"
      ]
     },
     "execution_count": 124,
     "metadata": {},
     "output_type": "execute_result"
    }
   ],
   "source": [
    "repo_stats = RepostioyStats(repo_metrics)\n",
    "repo_stats.to_dict()"
   ]
  },
  {
   "cell_type": "code",
   "execution_count": 125,
   "metadata": {},
   "outputs": [],
   "source": [
    "final_stats_summary = {\n",
    "    'user' : repo_stats.user,\n",
    "    'stats' : repo_stats.to_dict(),\n",
    "}\n",
    "\n",
    "final_stats_detailed = {\n",
    "    'user' : repo_stats.user,\n",
    "    'stats' : repo_stats.to_dict(),\n",
    "    'repositories' : repo_stats.repositories\n",
    "}\n"
   ]
  },
  {
   "cell_type": "code",
   "execution_count": 126,
   "metadata": {},
   "outputs": [],
   "source": [
    "with open('repo_stats_summary.json', 'w') as f:\n",
    "    json.dump(final_stats_summary, f)\n",
    "\n",
    "with open('repo_stats_detailed.json', 'w') as f:\n",
    "    json.dump(final_stats_detailed, f)\n"
   ]
  }
 ],
 "metadata": {
  "kernelspec": {
   "display_name": "llms",
   "language": "python",
   "name": "python3"
  },
  "language_info": {
   "codemirror_mode": {
    "name": "ipython",
    "version": 3
   },
   "file_extension": ".py",
   "mimetype": "text/x-python",
   "name": "python",
   "nbconvert_exporter": "python",
   "pygments_lexer": "ipython3",
   "version": "3.11.12"
  }
 },
 "nbformat": 4,
 "nbformat_minor": 2
}
