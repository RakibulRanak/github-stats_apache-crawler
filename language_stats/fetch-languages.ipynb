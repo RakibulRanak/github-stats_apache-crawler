{
 "cells": [
  {
   "cell_type": "code",
   "execution_count": 47,
   "metadata": {},
   "outputs": [],
   "source": [
    "import requests\n",
    "from bs4 import BeautifulSoup\n",
    "import os\n",
    "import pandas as pd\n",
    "import subprocess\n",
    "from tqdm import tqdm\n",
    "from selenium import webdriver\n",
    "import json\n",
    "import statistics\n",
    "import time"
   ]
  },
  {
   "cell_type": "code",
   "execution_count": 10,
   "metadata": {},
   "outputs": [],
   "source": [
    "\n",
    "USER = 'Kaggle' # will take input from the user instead hardcoded\n",
    "IS_ORG = True\n",
    "BASE_URL = 'https://github.com'"
   ]
  },
  {
   "cell_type": "code",
   "execution_count": 65,
   "metadata": {},
   "outputs": [],
   "source": [
    "def get_repo_names(page, user, is_org = False):\n",
    "    url = f'{BASE_URL}/orgs/{user}/repositories?page={page}' if is_org else f'{BASE_URL}/{user}?tab=repositories&page={page}'\n",
    "    repo_names = []\n",
    "\n",
    "    if is_org:\n",
    "        driver = webdriver.Chrome()\n",
    "        driver.get(url)\n",
    "        time.sleep(0.5)\n",
    "        html = driver.page_source\n",
    "        driver.quit()\n",
    "        soup = BeautifulSoup(html, 'html.parser')\n",
    "        repo_elements = soup.find_all('h4', class_=lambda c: c and 'Title-module__heading' in c) \n",
    "\n",
    "        for element in repo_elements:\n",
    "            name_tag = element.find('a')\n",
    "            name = name_tag.text.strip() if name_tag else None\n",
    "            if name:\n",
    "                repo_names.append(name)\n",
    "    else :\n",
    "        res = requests.get(url)\n",
    "        soup = BeautifulSoup(res.text, 'html.parser')\n",
    "        repo_elements = soup.find_all('h3', {'class': 'wb-break-all'})\n",
    "        for element in repo_elements:\n",
    "            name = name_tag.text.strip() if name_tag else None\n",
    "            if name:\n",
    "                repo_names.append(name)\n",
    "    return repo_names\n",
    "\n",
    "    "
   ]
  },
  {
   "cell_type": "code",
   "execution_count": 66,
   "metadata": {},
   "outputs": [],
   "source": [
    "\n",
    "repo_urls = []\n",
    "repo_names = []\n",
    "page = 1\n",
    "while True:\n",
    "    names = get_repo_names(page, USER, IS_ORG)\n",
    "    if len(names) == 0:\n",
    "        break\n",
    "    repo_names.extend(names)\n",
    "    for name in names:\n",
    "        repo_url = f'{BASE_URL}/{USER}/{name}'\n",
    "        repo_urls.append(repo_url)\n",
    "    page +=1\n",
    "    \n"
   ]
  },
  {
   "cell_type": "code",
   "execution_count": 64,
   "metadata": {},
   "outputs": [
    {
     "name": "stdout",
     "output_type": "stream",
     "text": [
      "Total repo names :  12\n",
      "Total repo links :  12\n",
      "['kaggle-api', 'kaggle-environments', 'kagglehub', 'docker-python', 'docker-rstats']\n",
      "['https://github.com/Kaggle/kaggle-api', 'https://github.com/Kaggle/kaggle-environments', 'https://github.com/Kaggle/kagglehub', 'https://github.com/Kaggle/docker-python', 'https://github.com/Kaggle/docker-rstats']\n"
     ]
    }
   ],
   "source": [
    "print(\"Total repo names : \", len(repo_names))\n",
    "print(\"Total repo links : \", len(repo_urls))\n",
    "print(repo_names[:5])\n",
    "print(repo_urls[:5])"
   ]
  },
  {
   "cell_type": "code",
   "execution_count": 14,
   "metadata": {},
   "outputs": [],
   "source": [
    "dir_path = f'clones/{USER}'\n",
    "os.makedirs(dir_path, exist_ok=True)"
   ]
  },
  {
   "cell_type": "code",
   "execution_count": 15,
   "metadata": {},
   "outputs": [],
   "source": [
    "df = pd.DataFrame({\n",
    "    'name' : repo_names,\n",
    "    'url' : repo_urls\n",
    "})\n",
    "df.to_csv(f'{dir_path}/{USER}_urls.csv', index=False)"
   ]
  },
  {
   "cell_type": "code",
   "execution_count": 16,
   "metadata": {},
   "outputs": [
    {
     "name": "stderr",
     "output_type": "stream",
     "text": [
      "  0%|          | 0/12 [00:00<?, ?it/s]Cloning into 'kaggle-api'...\n",
      "  8%|▊         | 1/12 [00:03<00:40,  3.66s/it]Cloning into 'kaggle-environments'...\n",
      " 17%|█▋        | 2/12 [00:06<00:33,  3.38s/it]Cloning into 'kagglehub'...\n",
      " 25%|██▌       | 3/12 [00:10<00:33,  3.69s/it]Cloning into 'docker-python'...\n",
      " 33%|███▎      | 4/12 [01:04<03:07, 23.50s/it]Cloning into 'docker-rstats'...\n",
      " 42%|████▏     | 5/12 [01:06<01:48, 15.52s/it]Cloning into 'docker-rcran'...\n",
      " 50%|█████     | 6/12 [01:07<01:04, 10.80s/it]Cloning into 'learntools'...\n",
      " 58%|█████▊    | 7/12 [01:20<00:57, 11.48s/it]Cloning into 'kagglesdk'...\n",
      " 67%|██████▋   | 8/12 [01:21<00:32,  8.20s/it]Cloning into '.allstar'...\n",
      " 75%|███████▌  | 9/12 [01:23<00:18,  6.05s/it]Cloning into 'jupyterlab'...\n",
      " 83%|████████▎ | 10/12 [01:24<00:09,  4.66s/it]Cloning into 'docker-julia'...\n",
      " 92%|█████████▏| 11/12 [01:25<00:03,  3.60s/it]Cloning into 'pipelinehelpers'...\n",
      "100%|██████████| 12/12 [01:27<00:00,  7.27s/it]\n"
     ]
    }
   ],
   "source": [
    "for url in tqdm(repo_urls):\n",
    "    subprocess.run(['git', 'clone', url], cwd=dir_path)\n"
   ]
  },
  {
   "cell_type": "code",
   "execution_count": 17,
   "metadata": {},
   "outputs": [],
   "source": [
    "languages = [\"Python\",\"JavaScript\",\"Java\",\"TypeScript\",\"C#\",\"C++\",\"Go\",\"PHP\",\"Ruby\",\"Bourne Shell\"]\n",
    "\n",
    "path = f'clones/{USER}'\n",
    "lang_stats = {}\n",
    "\n",
    "for lang in languages:\n",
    "    lang_stats[lang] = []\n",
    "\n",
    "for repo in repo_names:\n",
    "    repo_path = os.path.join(path, repo)\n",
    "\n",
    "    result = subprocess.run(\n",
    "        [\"cloc\", repo_path, f\"--include-lang={','.join(languages)}\", \"--json\"],\n",
    "        capture_output=True,\n",
    "        text=True\n",
    "    )\n",
    "\n",
    "    data = json.loads(result.stdout)\n",
    "    repo_summary = {\"repo_name\": repo, \"total\": 0}\n",
    "\n",
    "    for lang in languages:\n",
    "        count = data.get(lang, {}).get(\"code\", 0)\n",
    "        lang_stats[lang].append(count)"
   ]
  },
  {
   "cell_type": "code",
   "execution_count": 18,
   "metadata": {},
   "outputs": [
    {
     "name": "stdout",
     "output_type": "stream",
     "text": [
      "{'Python': [20337, 16772, 7014, 3437, 0, 0, 12078, 10489, 0, 0, 0, 0], 'JavaScript': [0, 6979, 0, 0, 0, 0, 0, 0, 0, 6, 0, 0], 'Java': [0, 1608, 0, 0, 0, 0, 0, 0, 0, 0, 0, 0], 'TypeScript': [0, 1849, 0, 0, 0, 0, 0, 0, 0, 1131, 0, 0], 'C#': [0, 0, 0, 0, 0, 0, 0, 0, 0, 0, 0, 0], 'C++': [0, 0, 0, 0, 0, 0, 0, 0, 0, 0, 0, 0], 'Go': [0, 0, 0, 0, 0, 0, 0, 0, 0, 0, 0, 0], 'PHP': [0, 0, 0, 0, 0, 0, 0, 0, 0, 0, 0, 0], 'Ruby': [0, 0, 0, 0, 0, 0, 0, 0, 0, 0, 0, 0], 'Bourne Shell': [324, 300, 0, 8, 7, 502, 611, 0, 0, 3, 0, 0]}\n"
     ]
    }
   ],
   "source": [
    "print(lang_stats)"
   ]
  },
  {
   "cell_type": "code",
   "execution_count": 19,
   "metadata": {},
   "outputs": [
    {
     "name": "stdout",
     "output_type": "stream",
     "text": [
      "Python [20337, 16772, 7014, 3437, 0, 0, 12078, 10489, 0, 0, 0, 0]\n",
      "JavaScript [0, 6979, 0, 0, 0, 0, 0, 0, 0, 6, 0, 0]\n",
      "Java [0, 1608, 0, 0, 0, 0, 0, 0, 0, 0, 0, 0]\n",
      "TypeScript [0, 1849, 0, 0, 0, 0, 0, 0, 0, 1131, 0, 0]\n",
      "C# [0, 0, 0, 0, 0, 0, 0, 0, 0, 0, 0, 0]\n",
      "C++ [0, 0, 0, 0, 0, 0, 0, 0, 0, 0, 0, 0]\n",
      "Go [0, 0, 0, 0, 0, 0, 0, 0, 0, 0, 0, 0]\n",
      "PHP [0, 0, 0, 0, 0, 0, 0, 0, 0, 0, 0, 0]\n",
      "Ruby [0, 0, 0, 0, 0, 0, 0, 0, 0, 0, 0, 0]\n",
      "Bourne Shell [324, 300, 0, 8, 7, 502, 611, 0, 0, 3, 0, 0]\n"
     ]
    }
   ],
   "source": [
    "total_summary = {}\n",
    "for lang in languages:\n",
    "    lang_counts = lang_stats[lang]\n",
    "    print(lang, lang_counts)\n",
    "    total = sum(lang_counts)\n",
    "    median = statistics.median(lang_counts) if lang_counts else 0\n",
    "    total_summary[lang] = {\n",
    "        \"total\" : total,\n",
    "        \"median\" : median\n",
    "    }"
   ]
  },
  {
   "cell_type": "code",
   "execution_count": 20,
   "metadata": {},
   "outputs": [
    {
     "name": "stdout",
     "output_type": "stream",
     "text": [
      "{'Python': {'total': 70127, 'median': 1718.5}, 'JavaScript': {'total': 6985, 'median': 0.0}, 'Java': {'total': 1608, 'median': 0.0}, 'TypeScript': {'total': 2980, 'median': 0.0}, 'C#': {'total': 0, 'median': 0.0}, 'C++': {'total': 0, 'median': 0.0}, 'Go': {'total': 0, 'median': 0.0}, 'PHP': {'total': 0, 'median': 0.0}, 'Ruby': {'total': 0, 'median': 0.0}, 'Bourne Shell': {'total': 1755, 'median': 5.0}}\n"
     ]
    }
   ],
   "source": [
    "print(total_summary)"
   ]
  },
  {
   "cell_type": "code",
   "execution_count": 21,
   "metadata": {},
   "outputs": [],
   "source": [
    "with open(f'{USER}_language_summary.json', 'w') as f:\n",
    "    json.dump(total_summary, f)"
   ]
  },
  {
   "cell_type": "code",
   "execution_count": 22,
   "metadata": {},
   "outputs": [
    {
     "name": "stdout",
     "output_type": "stream",
     "text": [
      "Kaggle_language_summary.json created successfully\n"
     ]
    }
   ],
   "source": [
    "print(f'{USER}_language_summary.json created successfully' )"
   ]
  },
  {
   "cell_type": "code",
   "execution_count": null,
   "metadata": {},
   "outputs": [],
   "source": []
  }
 ],
 "metadata": {
  "kernelspec": {
   "display_name": "llms",
   "language": "python",
   "name": "python3"
  },
  "language_info": {
   "codemirror_mode": {
    "name": "ipython",
    "version": 3
   },
   "file_extension": ".py",
   "mimetype": "text/x-python",
   "name": "python",
   "nbconvert_exporter": "python",
   "pygments_lexer": "ipython3",
   "version": "3.11.12"
  }
 },
 "nbformat": 4,
 "nbformat_minor": 2
}
